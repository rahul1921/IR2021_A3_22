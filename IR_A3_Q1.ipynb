{
  "nbformat": 4,
  "nbformat_minor": 0,
  "metadata": {
    "colab": {
      "name": "IR_A3_Q1.ipynb",
      "provenance": [],
      "collapsed_sections": [
        "DJcezegNYTCo",
        "6kkCid-yYbCJ",
        "VvI4FuHZYfzO",
        "4Djtq25gYktn",
        "zcEO4x-VfNUS",
        "7jsCA4de-TBd",
        "6HPs7qqK-TCH",
        "MzeSG40w-TCO",
        "1kLiNrab-TCW",
        "4SbhHUxS-TCY",
        "KuEI_R2V-TCZ",
        "zMhio8OT-TCe",
        "0W6GoDs2hnr9",
        "kNo1xWDphsez",
        "b7tPJdVBhsfN",
        "DrXbXh2LhsfU",
        "qm4DRC4MhsfV",
        "XgMR_ahQhsfX",
        "XRg2mTNZhsfb",
        "G1pc8pIAmPid",
        "haJdPdB0mPin",
        "FUSgtBkkmPir",
        "T2jDylPymPiy",
        "6-l2uP7XmPiy",
        "KWRIQYaRmPiz",
        "emAV0YRjmPi1",
        "6Gf5QONv2qmw"
      ]
    },
    "kernelspec": {
      "name": "python3",
      "display_name": "Python 3"
    },
    "language_info": {
      "name": "python"
    }
  },
  "cells": [
    {
      "cell_type": "markdown",
      "metadata": {
        "id": "DJcezegNYTCo"
      },
      "source": [
        "# Mount the drive"
      ]
    },
    {
      "cell_type": "code",
      "metadata": {
        "colab": {
          "base_uri": "https://localhost:8080/"
        },
        "id": "UyAlnX1-YRKd",
        "outputId": "5f4745bb-5a32-4fb0-98de-f344732043d2"
      },
      "source": [
        "from google.colab import drive\n",
        "drive.mount('/content/drive')"
      ],
      "execution_count": null,
      "outputs": [
        {
          "output_type": "stream",
          "text": [
            "Mounted at /content/drive\n"
          ],
          "name": "stdout"
        }
      ]
    },
    {
      "cell_type": "markdown",
      "metadata": {
        "id": "6kkCid-yYbCJ"
      },
      "source": [
        "# Import libraries"
      ]
    },
    {
      "cell_type": "code",
      "metadata": {
        "colab": {
          "base_uri": "https://localhost:8080/"
        },
        "id": "UsmqnmlLK0H9",
        "outputId": "ab08ac77-005e-4c21-bde5-9cbc710e5a82"
      },
      "source": [
        "import os\n",
        "import random\n",
        "import glob\n",
        "from math import sqrt\n",
        "from math import exp\n",
        "from math import pi\n",
        "import nltk\n",
        "import pandas as pd\n",
        "import matplotlib.pyplot as plt\n",
        "import numpy as np\n",
        "import ast\n",
        "from nltk.tokenize import RegexpTokenizer\n",
        "from nltk.corpus import stopwords\n",
        "from nltk.stem import WordNetLemmatizer \n",
        "from nltk.stem.porter import PorterStemmer\n",
        "from sklearn.metrics import classification_report\n",
        "!pip install autocorrect\n",
        "from autocorrect import Speller\n",
        "from collections import OrderedDict \n",
        "from pathlib import Path\n",
        "import shutil\n",
        "import seaborn as sns\n",
        "import spacy \n",
        "import re\n",
        "nltk.download('wordnet')\n",
        "nltk.download('stopwords')\n",
        "!pip install contractions\n",
        "!pip install spacy\n",
        "!pip install textblob\n",
        "import contractions\n",
        "from textblob import TextBlob, Word"
      ],
      "execution_count": null,
      "outputs": [
        {
          "output_type": "stream",
          "text": [
            "Collecting autocorrect\n",
            "\u001b[?25l  Downloading https://files.pythonhosted.org/packages/35/31/aa5d4b54baafed2d0eef47e30d527ea60eb7357f11c3b5adc58262a3c693/autocorrect-2.5.0.tar.gz (622kB)\n",
            "\r\u001b[K     |▌                               | 10kB 13.8MB/s eta 0:00:01\r\u001b[K     |█                               | 20kB 13.5MB/s eta 0:00:01\r\u001b[K     |█▋                              | 30kB 9.1MB/s eta 0:00:01\r\u001b[K     |██                              | 40kB 8.2MB/s eta 0:00:01\r\u001b[K     |██▋                             | 51kB 5.3MB/s eta 0:00:01\r\u001b[K     |███▏                            | 61kB 5.6MB/s eta 0:00:01\r\u001b[K     |███▊                            | 71kB 6.0MB/s eta 0:00:01\r\u001b[K     |████▏                           | 81kB 6.6MB/s eta 0:00:01\r\u001b[K     |████▊                           | 92kB 5.8MB/s eta 0:00:01\r\u001b[K     |█████▎                          | 102kB 6.0MB/s eta 0:00:01\r\u001b[K     |█████▉                          | 112kB 6.0MB/s eta 0:00:01\r\u001b[K     |██████▎                         | 122kB 6.0MB/s eta 0:00:01\r\u001b[K     |██████▉                         | 133kB 6.0MB/s eta 0:00:01\r\u001b[K     |███████▍                        | 143kB 6.0MB/s eta 0:00:01\r\u001b[K     |████████                        | 153kB 6.0MB/s eta 0:00:01\r\u001b[K     |████████▍                       | 163kB 6.0MB/s eta 0:00:01\r\u001b[K     |█████████                       | 174kB 6.0MB/s eta 0:00:01\r\u001b[K     |█████████▌                      | 184kB 6.0MB/s eta 0:00:01\r\u001b[K     |██████████                      | 194kB 6.0MB/s eta 0:00:01\r\u001b[K     |██████████▌                     | 204kB 6.0MB/s eta 0:00:01\r\u001b[K     |███████████                     | 215kB 6.0MB/s eta 0:00:01\r\u001b[K     |███████████▋                    | 225kB 6.0MB/s eta 0:00:01\r\u001b[K     |████████████▏                   | 235kB 6.0MB/s eta 0:00:01\r\u001b[K     |████████████▋                   | 245kB 6.0MB/s eta 0:00:01\r\u001b[K     |█████████████▏                  | 256kB 6.0MB/s eta 0:00:01\r\u001b[K     |█████████████▊                  | 266kB 6.0MB/s eta 0:00:01\r\u001b[K     |██████████████▏                 | 276kB 6.0MB/s eta 0:00:01\r\u001b[K     |██████████████▊                 | 286kB 6.0MB/s eta 0:00:01\r\u001b[K     |███████████████▎                | 296kB 6.0MB/s eta 0:00:01\r\u001b[K     |███████████████▉                | 307kB 6.0MB/s eta 0:00:01\r\u001b[K     |████████████████▎               | 317kB 6.0MB/s eta 0:00:01\r\u001b[K     |████████████████▉               | 327kB 6.0MB/s eta 0:00:01\r\u001b[K     |█████████████████▍              | 337kB 6.0MB/s eta 0:00:01\r\u001b[K     |██████████████████              | 348kB 6.0MB/s eta 0:00:01\r\u001b[K     |██████████████████▍             | 358kB 6.0MB/s eta 0:00:01\r\u001b[K     |███████████████████             | 368kB 6.0MB/s eta 0:00:01\r\u001b[K     |███████████████████▌            | 378kB 6.0MB/s eta 0:00:01\r\u001b[K     |████████████████████            | 389kB 6.0MB/s eta 0:00:01\r\u001b[K     |████████████████████▌           | 399kB 6.0MB/s eta 0:00:01\r\u001b[K     |█████████████████████           | 409kB 6.0MB/s eta 0:00:01\r\u001b[K     |█████████████████████▋          | 419kB 6.0MB/s eta 0:00:01\r\u001b[K     |██████████████████████▏         | 430kB 6.0MB/s eta 0:00:01\r\u001b[K     |██████████████████████▋         | 440kB 6.0MB/s eta 0:00:01\r\u001b[K     |███████████████████████▏        | 450kB 6.0MB/s eta 0:00:01\r\u001b[K     |███████████████████████▊        | 460kB 6.0MB/s eta 0:00:01\r\u001b[K     |████████████████████████▎       | 471kB 6.0MB/s eta 0:00:01\r\u001b[K     |████████████████████████▊       | 481kB 6.0MB/s eta 0:00:01\r\u001b[K     |█████████████████████████▎      | 491kB 6.0MB/s eta 0:00:01\r\u001b[K     |█████████████████████████▉      | 501kB 6.0MB/s eta 0:00:01\r\u001b[K     |██████████████████████████▎     | 512kB 6.0MB/s eta 0:00:01\r\u001b[K     |██████████████████████████▉     | 522kB 6.0MB/s eta 0:00:01\r\u001b[K     |███████████████████████████▍    | 532kB 6.0MB/s eta 0:00:01\r\u001b[K     |████████████████████████████    | 542kB 6.0MB/s eta 0:00:01\r\u001b[K     |████████████████████████████▍   | 552kB 6.0MB/s eta 0:00:01\r\u001b[K     |█████████████████████████████   | 563kB 6.0MB/s eta 0:00:01\r\u001b[K     |█████████████████████████████▌  | 573kB 6.0MB/s eta 0:00:01\r\u001b[K     |██████████████████████████████  | 583kB 6.0MB/s eta 0:00:01\r\u001b[K     |██████████████████████████████▌ | 593kB 6.0MB/s eta 0:00:01\r\u001b[K     |███████████████████████████████ | 604kB 6.0MB/s eta 0:00:01\r\u001b[K     |███████████████████████████████▋| 614kB 6.0MB/s eta 0:00:01\r\u001b[K     |████████████████████████████████| 624kB 6.0MB/s \n",
            "\u001b[?25hBuilding wheels for collected packages: autocorrect\n",
            "  Building wheel for autocorrect (setup.py) ... \u001b[?25l\u001b[?25hdone\n",
            "  Created wheel for autocorrect: filename=autocorrect-2.5.0-cp37-none-any.whl size=621854 sha256=b882f030c39509599ee185f5b52efa0b49171506d615eae01eb9f0f3142bd40f\n",
            "  Stored in directory: /root/.cache/pip/wheels/1f/71/da/4a15028d25fbd5fb97fb76c5f76f0ad86f0caa69394dd7cfa7\n",
            "Successfully built autocorrect\n",
            "Installing collected packages: autocorrect\n",
            "Successfully installed autocorrect-2.5.0\n",
            "[nltk_data] Downloading package wordnet to /root/nltk_data...\n",
            "[nltk_data]   Unzipping corpora/wordnet.zip.\n",
            "[nltk_data] Downloading package stopwords to /root/nltk_data...\n",
            "[nltk_data]   Unzipping corpora/stopwords.zip.\n",
            "Collecting contractions\n",
            "  Downloading https://files.pythonhosted.org/packages/0a/04/d5e0bb9f2cef5d15616ebf68087a725c5dbdd71bd422bcfb35d709f98ce7/contractions-0.0.48-py2.py3-none-any.whl\n",
            "Collecting textsearch>=0.0.21\n",
            "  Downloading https://files.pythonhosted.org/packages/d3/fe/021d7d76961b5ceb9f8d022c4138461d83beff36c3938dc424586085e559/textsearch-0.0.21-py2.py3-none-any.whl\n",
            "Collecting pyahocorasick\n",
            "\u001b[?25l  Downloading https://files.pythonhosted.org/packages/7f/c2/eae730037ae1cbbfaa229d27030d1d5e34a1e41114b21447d1202ae9c220/pyahocorasick-1.4.2.tar.gz (321kB)\n",
            "\u001b[K     |████████████████████████████████| 327kB 6.3MB/s \n",
            "\u001b[?25hCollecting anyascii\n",
            "\u001b[?25l  Downloading https://files.pythonhosted.org/packages/a3/14/666cd44bf53f36a961544af592cb5c5c800013f9c51a4745af8d7c17362a/anyascii-0.2.0-py3-none-any.whl (283kB)\n",
            "\u001b[K     |████████████████████████████████| 286kB 8.6MB/s \n",
            "\u001b[?25hBuilding wheels for collected packages: pyahocorasick\n",
            "  Building wheel for pyahocorasick (setup.py) ... \u001b[?25l\u001b[?25hdone\n",
            "  Created wheel for pyahocorasick: filename=pyahocorasick-1.4.2-cp37-cp37m-linux_x86_64.whl size=85398 sha256=06f0aed884e54d2bd95a7fb6a9dfe367e314f08d0c0735b946935e13d6c4f229\n",
            "  Stored in directory: /root/.cache/pip/wheels/3a/03/34/77e3ece0bba8b86bfac88a79f923b36d805cad63caeba38842\n",
            "Successfully built pyahocorasick\n",
            "Installing collected packages: pyahocorasick, anyascii, textsearch, contractions\n",
            "Successfully installed anyascii-0.2.0 contractions-0.0.48 pyahocorasick-1.4.2 textsearch-0.0.21\n",
            "Requirement already satisfied: spacy in /usr/local/lib/python3.7/dist-packages (2.2.4)\n",
            "Requirement already satisfied: catalogue<1.1.0,>=0.0.7 in /usr/local/lib/python3.7/dist-packages (from spacy) (1.0.0)\n",
            "Requirement already satisfied: preshed<3.1.0,>=3.0.2 in /usr/local/lib/python3.7/dist-packages (from spacy) (3.0.5)\n",
            "Requirement already satisfied: numpy>=1.15.0 in /usr/local/lib/python3.7/dist-packages (from spacy) (1.19.5)\n",
            "Requirement already satisfied: blis<0.5.0,>=0.4.0 in /usr/local/lib/python3.7/dist-packages (from spacy) (0.4.1)\n",
            "Requirement already satisfied: wasabi<1.1.0,>=0.4.0 in /usr/local/lib/python3.7/dist-packages (from spacy) (0.8.2)\n",
            "Requirement already satisfied: plac<1.2.0,>=0.9.6 in /usr/local/lib/python3.7/dist-packages (from spacy) (1.1.3)\n",
            "Requirement already satisfied: setuptools in /usr/local/lib/python3.7/dist-packages (from spacy) (56.0.0)\n",
            "Requirement already satisfied: murmurhash<1.1.0,>=0.28.0 in /usr/local/lib/python3.7/dist-packages (from spacy) (1.0.5)\n",
            "Requirement already satisfied: tqdm<5.0.0,>=4.38.0 in /usr/local/lib/python3.7/dist-packages (from spacy) (4.41.1)\n",
            "Requirement already satisfied: srsly<1.1.0,>=1.0.2 in /usr/local/lib/python3.7/dist-packages (from spacy) (1.0.5)\n",
            "Requirement already satisfied: requests<3.0.0,>=2.13.0 in /usr/local/lib/python3.7/dist-packages (from spacy) (2.23.0)\n",
            "Requirement already satisfied: cymem<2.1.0,>=2.0.2 in /usr/local/lib/python3.7/dist-packages (from spacy) (2.0.5)\n",
            "Requirement already satisfied: thinc==7.4.0 in /usr/local/lib/python3.7/dist-packages (from spacy) (7.4.0)\n",
            "Requirement already satisfied: importlib-metadata>=0.20; python_version < \"3.8\" in /usr/local/lib/python3.7/dist-packages (from catalogue<1.1.0,>=0.0.7->spacy) (3.10.1)\n",
            "Requirement already satisfied: idna<3,>=2.5 in /usr/local/lib/python3.7/dist-packages (from requests<3.0.0,>=2.13.0->spacy) (2.10)\n",
            "Requirement already satisfied: certifi>=2017.4.17 in /usr/local/lib/python3.7/dist-packages (from requests<3.0.0,>=2.13.0->spacy) (2020.12.5)\n",
            "Requirement already satisfied: chardet<4,>=3.0.2 in /usr/local/lib/python3.7/dist-packages (from requests<3.0.0,>=2.13.0->spacy) (3.0.4)\n",
            "Requirement already satisfied: urllib3!=1.25.0,!=1.25.1,<1.26,>=1.21.1 in /usr/local/lib/python3.7/dist-packages (from requests<3.0.0,>=2.13.0->spacy) (1.24.3)\n",
            "Requirement already satisfied: typing-extensions>=3.6.4; python_version < \"3.8\" in /usr/local/lib/python3.7/dist-packages (from importlib-metadata>=0.20; python_version < \"3.8\"->catalogue<1.1.0,>=0.0.7->spacy) (3.7.4.3)\n",
            "Requirement already satisfied: zipp>=0.5 in /usr/local/lib/python3.7/dist-packages (from importlib-metadata>=0.20; python_version < \"3.8\"->catalogue<1.1.0,>=0.0.7->spacy) (3.4.1)\n",
            "Requirement already satisfied: textblob in /usr/local/lib/python3.7/dist-packages (0.15.3)\n",
            "Requirement already satisfied: nltk>=3.1 in /usr/local/lib/python3.7/dist-packages (from textblob) (3.2.5)\n",
            "Requirement already satisfied: six in /usr/local/lib/python3.7/dist-packages (from nltk>=3.1->textblob) (1.15.0)\n"
          ],
          "name": "stdout"
        }
      ]
    },
    {
      "cell_type": "markdown",
      "metadata": {
        "id": "VvI4FuHZYfzO"
      },
      "source": [
        "# Preprocessing"
      ]
    },
    {
      "cell_type": "code",
      "metadata": {
        "id": "GMF7AQv6K0Ek"
      },
      "source": [
        "def cleaning(filepath,filename,flag):\n",
        "  if(flag==1):\n",
        "    f = open(filepath,'r',errors = 'ignore').read()\n",
        "    clean_S = contractions.fix(f)\n",
        "    clean_S = re.sub(r'(\\w*\\.*\\w+@[\\w\\.\\w]+)',\" \",clean_S)  #eliminating email ids\n",
        "    clean_S=re.sub(\"([\\-]{1,2})\", \" \",clean_S)  \n",
        "    clean_s=re.sub(\"[\\,]\", \" \",clean_S)\n",
        "    clean_S=re.sub(\"([\\.\\!]{2})\", \" \",clean_S)  #removing punctuations\n",
        "    clean_S = re.sub(r'[\\!@#$%^&\\*()\\_+={}\\:\\;<>\\?/\\|\\-/\"\\'\\.]*',\"\", clean_S)  #junk symbols\n",
        "    # clean_S = re.sub(r\"(.)\\1{2}\",\"\",clean_S)  #for elongated words\n",
        "    clean_S = re.sub('\\s+', ' ', clean_S)    \n",
        "    clean_S=re.sub(\"[^a-zA-Z\\s\\n]\", \" \",clean_S)  #used to eliminate non-ascii and numeric symbols \n",
        "    clean_S = re.sub(r\"(.)\\1{2}\",\"\",clean_S)  #for elongated words\n",
        "    clean_S = clean_S.lower()\n",
        "    return clean_S\n",
        "    # documentsDict[filename]=clean_S\n",
        "\n",
        "  elif(flag==0):\n",
        "    filepath = contractions.fix(filepath)\n",
        "    filepath=re.sub(\"([\\-]{1,2})\", \" \",filepath)\n",
        "    clean_S = re.sub(\"\\w*\\.*\\w+@[\\w\\.\\w]+\",\" \",clean_S)   #eliminating email ids\n",
        "    filepath=re.sub(\"[0-9]\", \"\",filepath)\n",
        "    # filepath=re.sub(\"[\\,]\", \" \",filepath)\n",
        "    filepath=re.sub(\"([\\.\\!]{2})\", \" \",filepath)\n",
        "    filepath = re.sub(r'[\\!@#$%^&\\*()\\_+={}\\:\\;<>\\?/\\|\\-/\"\\']*',\"\", filepath)\n",
        "    # filepath = re.sub(r\"(.)\\1{2}\",\"\",filepath)  #for elongated words\n",
        "    filepath = re.sub('\\s+', ' ', filepath)\n",
        "    filepath=re.sub(\"[^a-zA-Z\\,\\s\\n]\", \" \",filepath)\n",
        "    filepath = re.sub(r\"(.)\\1{2}\",\"\",filepath)  #for elongated words\n",
        "    filepath = filepath.lower()\n",
        "    return filepath"
      ],
      "execution_count": null,
      "outputs": []
    },
    {
      "cell_type": "code",
      "metadata": {
        "id": "Q4gfcmAIKz-y"
      },
      "source": [
        "def gen_token(flag,query):\n",
        "  tokenizer = RegexpTokenizer(r'\\w+')\n",
        "  if(flag==1):\n",
        "    file = open(query,'r',errors = 'ignore').read()\n",
        "    line = tokenizer.tokenize(str(file))\n",
        "    # astr = \" \".join(line)\n",
        "    print(line) \n",
        "    return line\n",
        "\n",
        "  elif(flag==0):\n",
        "    query = tokenizer.tokenize(query)\n",
        "    return query"
      ],
      "execution_count": null,
      "outputs": []
    },
    {
      "cell_type": "code",
      "metadata": {
        "id": "C83_Ci6bKz7X"
      },
      "source": [
        "def remove_stopword(flag,query):\n",
        "  stopwordsList = stopwords.words('english')\n",
        "  if(flag==1):\n",
        "    ll=[]\n",
        "    for word in query :\n",
        "      if word not in stopwordsList:\n",
        "            ll.append(word)\n",
        "    return ll        \n",
        "  elif(flag==0):\n",
        "      q=[]\n",
        "      for word in query:\n",
        "            if word not in stopwordsList:\n",
        "              q.append(word)\n",
        "      query=q.copy()\n",
        "      return query   "
      ],
      "execution_count": null,
      "outputs": []
    },
    {
      "cell_type": "code",
      "metadata": {
        "id": "eGxV1zjDKzx2"
      },
      "source": [
        "def normalise_using_textblob(flag,query):\n",
        "  if(flag==1):       \n",
        "    for docname in documentsDict:\n",
        "        dataList = []\n",
        "        for word in documentsDict[docname]:\n",
        "            w = Word(word)\n",
        "            dataList.append(w.lemmatize())\n",
        "        documentsDict[docname] = dataList   \n",
        "\n",
        "  elif(flag==0):\n",
        "    ans = []\n",
        "    for word in query:\n",
        "      w=Word(word)\n",
        "      ans.append(w.lemmatize())\n",
        "    return ans        "
      ],
      "execution_count": null,
      "outputs": []
    },
    {
      "cell_type": "markdown",
      "metadata": {
        "id": "4Djtq25gYktn"
      },
      "source": [
        "# Load and Prepare Data"
      ]
    },
    {
      "cell_type": "code",
      "metadata": {
        "id": "lFsN63e-Zd99"
      },
      "source": [
        "files = os.listdir('/content/drive/MyDrive/IR/Assignment3/talk.politics.misc')\n",
        "for file in files:\n",
        "       flag = 0\n",
        "       toklist1=[]\n",
        "       f = open('/content/drive/MyDrive/IR/Assignment3/talk.politics.misc/'+file,'r',errors = 'ignore').readlines()\n",
        "       fw = open(\"/content/drive/MyDrive/IR/Assignment3/cleaning1/talk.politics.misc/\"+file,\"w\")\n",
        "       for lines in f:\n",
        "           line=lines.split()\n",
        "           if flag==1:\n",
        "              fw.write(lines)\n",
        "           if len(line)==2 and line[0] == 'Lines:' :\n",
        "              flag=1             \n",
        "       fw.close()"
      ],
      "execution_count": null,
      "outputs": []
    },
    {
      "cell_type": "code",
      "metadata": {
        "id": "VpVJMT325ItZ"
      },
      "source": [
        "files = os.listdir('/content/drive/MyDrive/IR/Assignment3/cleaning1/talk.politics.misc')\n",
        "for file in files:\n",
        "       toklist1=[]\n",
        "       text = cleaning('/content/drive/MyDrive/IR/Assignment3/cleaning1/talk.politics.misc/'+file,\"\",1)\n",
        "       toklist = gen_token(0,text)\n",
        "       toklist1 = remove_stopword(1,toklist)\n",
        "       astr = \" \".join(toklist1)\n",
        "       fw = open('/content/drive/MyDrive/IR/Assignment3/cleaning2/talk.politics.misc/'+file,\"w\")\n",
        "       fw.write(astr)\n",
        "       fw.close()"
      ],
      "execution_count": null,
      "outputs": []
    },
    {
      "cell_type": "markdown",
      "metadata": {
        "id": "zcEO4x-VfNUS"
      },
      "source": [
        "# Common functions"
      ]
    },
    {
      "cell_type": "code",
      "metadata": {
        "id": "--sjYtz3DoHB"
      },
      "source": [
        "def find_confusion_matrix(y_true,y_pred):\n",
        "  classes = np.unique(y_true)\n",
        "  res = np.zeros((classes.shape[0],classes.shape[0]))\n",
        "  for i in classes:\n",
        "      for k in range(len(y_true)):\n",
        "        if y_true[k] == i:\n",
        "           for j in classes:\n",
        "             if y_pred[k] == j:\n",
        "               res[i-1][j-1] +=1\n",
        "               break\n",
        "  return res"
      ],
      "execution_count": null,
      "outputs": []
    },
    {
      "cell_type": "code",
      "metadata": {
        "id": "n123lR4jT1zN"
      },
      "source": [
        "def plot_heatMap(cm):\n",
        "  f,p = plt.subplots(figsize=(8,6))\n",
        "  x = ['comp.graphics', 'sci.med', 'sci.space', 'talk.politics.misc','rec.sport.hockey']\n",
        "  sns.heatmap(cm, annot=True, linewidth=0.7, linecolor='tab:pink', fmt='g', ax=p, cmap='rocket_r',xticklabels=x,yticklabels=x)\n",
        "  plt.title('Confusion Matrix', size=18)\n",
        "  plt.xlabel('Predicted Labels', size=15)\n",
        "  plt.ylabel('Original Labels', size=15)\n",
        "  plt.show()"
      ],
      "execution_count": null,
      "outputs": []
    },
    {
      "cell_type": "code",
      "metadata": {
        "id": "MKSQfdnEAruh"
      },
      "source": [
        "def find_acc(y_true,y_pred):\n",
        "  count = 0\n",
        "  for i in range(len(y_true)):\n",
        "    if y_true[i] == y_pred[i]:\n",
        "      count +=1\n",
        "  return (count/len(y_true))"
      ],
      "execution_count": null,
      "outputs": []
    },
    {
      "cell_type": "markdown",
      "metadata": {
        "id": "7jsCA4de-TBd"
      },
      "source": [
        "# 80:20 split"
      ]
    },
    {
      "cell_type": "markdown",
      "metadata": {
        "id": "6HPs7qqK-TCH"
      },
      "source": [
        "### split"
      ]
    },
    {
      "cell_type": "code",
      "metadata": {
        "id": "Tmm0v6Qr-TCJ"
      },
      "source": [
        "noOfDocA=[]\n",
        "noOfDocB=[]\n",
        "noOfDocC=[]\n",
        "noOfDocD=[]\n",
        "noOfDocE=[]\n",
        "files = os.listdir('/content/drive/MyDrive/IR/Assignment3/cleaning2/comp.graphics')\n",
        "for file in files:\n",
        "  noOfDocA.append(file)\n",
        "files = os.listdir('/content/drive/MyDrive/IR/Assignment3/cleaning2/sci.med')\n",
        "for file in files:\n",
        "  noOfDocB.append(file)\n",
        "files = os.listdir('/content/drive/MyDrive/IR/Assignment3/cleaning2/sci.space')\n",
        "for file in files:\n",
        "  noOfDocC.append(file)\n",
        "files = os.listdir('/content/drive/MyDrive/IR/Assignment3/cleaning2/talk.politics.misc')\n",
        "for file in files:\n",
        "  noOfDocD.append(file)\n",
        "files = os.listdir('/content/drive/MyDrive/IR/Assignment3/cleaning2/rec.sport.hockey')\n",
        "for file in files:\n",
        "  noOfDocE.append(file)"
      ],
      "execution_count": null,
      "outputs": []
    },
    {
      "cell_type": "code",
      "metadata": {
        "id": "LrFu6O5w-TCL"
      },
      "source": [
        "random.shuffle(noOfDocA)\n",
        "random.shuffle(noOfDocB)\n",
        "random.shuffle(noOfDocC)\n",
        "random.shuffle(noOfDocD)\n",
        "random.shuffle(noOfDocE)"
      ],
      "execution_count": null,
      "outputs": []
    },
    {
      "cell_type": "code",
      "metadata": {
        "id": "VZKpBSff-TCM"
      },
      "source": [
        "trainA80=noOfDocA[:800]\n",
        "testA20=noOfDocA[-200:]\n",
        "trainB80=noOfDocB[:800]\n",
        "testB20=noOfDocB[-200:]\n",
        "trainC80=noOfDocC[:800]\n",
        "testC20=noOfDocC[-200:]\n",
        "trainD80=noOfDocD[:800]\n",
        "testD20=noOfDocD[-200:]\n",
        "trainE80=noOfDocE[:800]\n",
        "testE20=noOfDocE[-200:]"
      ],
      "execution_count": null,
      "outputs": []
    },
    {
      "cell_type": "code",
      "metadata": {
        "id": "NaR2iuJe-TCN"
      },
      "source": [
        "f = open('/content/drive/MyDrive/IR/Assignment3/80_split/trainA80.txt', 'w')\n",
        "f.write(str(trainA80))\n",
        "f.close()\n",
        "f = open('/content/drive/MyDrive/IR/Assignment3/80_split/testA20.txt', 'w')\n",
        "f.write(str(testA20))\n",
        "f.close()\n",
        "f = open('/content/drive/MyDrive/IR/Assignment3/80_split/trainB80.txt', 'w')\n",
        "f.write(str(trainB80))\n",
        "f.close()\n",
        "f = open('/content/drive/MyDrive/IR/Assignment3/80_split/testB20.txt', 'w')\n",
        "f.write(str(testB20))\n",
        "f.close()\n",
        "f = open('/content/drive/MyDrive/IR/Assignment3/80_split/trainC80.txt', 'w')\n",
        "f.write(str(trainC80))\n",
        "f.close()\n",
        "f = open('/content/drive/MyDrive/IR/Assignment3/80_split/testC20.txt', 'w')\n",
        "f.write(str(testC20))\n",
        "f.close()\n",
        "f = open('/content/drive/MyDrive/IR/Assignment3/80_split/trainD80.txt', 'w')\n",
        "f.write(str(trainD80))\n",
        "f.close()\n",
        "f = open('/content/drive/MyDrive/IR/Assignment3/80_split/testD20.txt', 'w')\n",
        "f.write(str(testD20))\n",
        "f.close()\n",
        "f = open('/content/drive/MyDrive/IR/Assignment3/80_split/trainE80.txt', 'w')\n",
        "f.write(str(trainE80))\n",
        "f.close()\n",
        "f = open('/content/drive/MyDrive/IR/Assignment3/80_split/testE20.txt', 'w')\n",
        "f.write(str(testE20))\n",
        "f.close()"
      ],
      "execution_count": null,
      "outputs": []
    },
    {
      "cell_type": "markdown",
      "metadata": {
        "id": "MzeSG40w-TCO"
      },
      "source": [
        "### Creating Vocab with Frequency"
      ]
    },
    {
      "cell_type": "code",
      "metadata": {
        "id": "pZOQNOCE-TCO"
      },
      "source": [
        "def create_dict(path,path1):\n",
        "  files = path\n",
        "  dictA = {}\n",
        "  for file in files:\n",
        "    fw = open(path1+file).read()\n",
        "    for i in fw.split():\n",
        "      if i not in dictA.keys():\n",
        "        dictA[i] = 1\n",
        "      else :\n",
        "        dictA[i] = dictA[i]+1\n",
        "  return dictA"
      ],
      "execution_count": null,
      "outputs": []
    },
    {
      "cell_type": "code",
      "metadata": {
        "id": "C2puJvpW-TCP"
      },
      "source": [
        "path1 = '/content/drive/MyDrive/IR/Assignment3/cleaning2/comp.graphics/'\n",
        "path = trainA80\n",
        "dictA = create_dict(path,path1)"
      ],
      "execution_count": null,
      "outputs": []
    },
    {
      "cell_type": "code",
      "metadata": {
        "id": "PMSfc_5X-TCQ"
      },
      "source": [
        "f = open('/content/drive/MyDrive/IR/Assignment3/80_20_split/comp.graphics.txt', 'w')\n",
        "f.write(str(dictA))\n",
        "f.close()"
      ],
      "execution_count": null,
      "outputs": []
    },
    {
      "cell_type": "code",
      "metadata": {
        "id": "92jftKsc-TCQ"
      },
      "source": [
        "path1 = '/content/drive/MyDrive/IR/Assignment3/cleaning2/sci.med/'\n",
        "path = trainB80\n",
        "dictB = create_dict(path,path1)"
      ],
      "execution_count": null,
      "outputs": []
    },
    {
      "cell_type": "code",
      "metadata": {
        "id": "97GVQ3Ub-TCR"
      },
      "source": [
        "f = open('/content/drive/MyDrive/IR/Assignment3/80_20_split/sci.med.txt', 'w')\n",
        "f.write(str(dictB))\n",
        "f.close()"
      ],
      "execution_count": null,
      "outputs": []
    },
    {
      "cell_type": "code",
      "metadata": {
        "id": "SRmg5cvV-TCS"
      },
      "source": [
        "path1 = '/content/drive/MyDrive/IR/Assignment3/cleaning2/sci.space/'\n",
        "path = trainC80\n",
        "dictC = create_dict(path,path1)"
      ],
      "execution_count": null,
      "outputs": []
    },
    {
      "cell_type": "code",
      "metadata": {
        "id": "PeaRmK1i-TCS"
      },
      "source": [
        "path1 = '/content/drive/MyDrive/IR/Assignment3/cleaning2/talk.politics.misc/'\n",
        "path = trainD80\n",
        "dictD = create_dict(path,path1)"
      ],
      "execution_count": null,
      "outputs": []
    },
    {
      "cell_type": "code",
      "metadata": {
        "id": "DKaIVjz4-TCT"
      },
      "source": [
        "path1 = '/content/drive/MyDrive/IR/Assignment3/cleaning2/rec.sport.hockey/'\n",
        "path = trainE80\n",
        "dictE = create_dict(path,path1)"
      ],
      "execution_count": null,
      "outputs": []
    },
    {
      "cell_type": "code",
      "metadata": {
        "id": "Jscb6kxT-TCT"
      },
      "source": [
        "def listFromDict(dicta):\n",
        "  list1=[]\n",
        "  for i,j in dicta.items():\n",
        "      list1.append(i)\n",
        "  return list1"
      ],
      "execution_count": null,
      "outputs": []
    },
    {
      "cell_type": "code",
      "metadata": {
        "id": "z70wuHJ7-TCU"
      },
      "source": [
        "f = open('/content/drive/MyDrive/IR/Assignment3/80_split/dictA.txt', 'w')\n",
        "f.write(str(dictA))\n",
        "f.close()\n",
        "f = open('/content/drive/MyDrive/IR/Assignment3/80_split/dictBtxt', 'w')\n",
        "f.write(str(dictB))\n",
        "f.close()\n",
        "f = open('/content/drive/MyDrive/IR/Assignment3/80_split/dictC.txt', 'w')\n",
        "f.write(str(dictC))\n",
        "f.close()\n",
        "f = open('/content/drive/MyDrive/IR/Assignment3/80_split/dictD.txt', 'w')\n",
        "f.write(str(dictD))\n",
        "f.close()\n",
        "f = open('/content/drive/MyDrive/IR/Assignment3/80_split/dictE.txt', 'w')\n",
        "f.write(str(dictE))\n",
        "f.close()"
      ],
      "execution_count": null,
      "outputs": []
    },
    {
      "cell_type": "code",
      "metadata": {
        "id": "PUcEH71L-TCU"
      },
      "source": [
        "f = open('/content/drive/MyDrive/IR/Assignment3/80_20_split/dictA.txt', 'r')\n",
        "dictA = f.read()\n",
        "f.close()\n",
        "dictA = ast.literal_eval(dictA)\n",
        "f = open('/content/drive/MyDrive/IR/Assignment3/80_20_split/dictB.txt', 'r')\n",
        "dictB = f.read()\n",
        "f.close()\n",
        "dictB = ast.literal_eval(dictB)\n",
        "f = open('/content/drive/MyDrive/IR/Assignment3/80_20_split/dictC.txt', 'r')\n",
        "dictC = f.read()\n",
        "f.close()\n",
        "dictC = ast.literal_eval(dictC)\n",
        "f = open('/content/drive/MyDrive/IR/Assignment3/80_20_split/dictD.txt', 'r')\n",
        "dictD = f.read()\n",
        "f.close()\n",
        "dictD = ast.literal_eval(dictD)\n",
        "f = open('/content/drive/MyDrive/IR/Assignment3/80_20_split/dictE.txt', 'r')\n",
        "dictE = f.read()\n",
        "f.close()\n",
        "dictE = ast.literal_eval(dictE)"
      ],
      "execution_count": null,
      "outputs": []
    },
    {
      "cell_type": "code",
      "metadata": {
        "id": "MlknEJCM-TCV"
      },
      "source": [
        "list1 = listFromDict(dictA)\n",
        "list2 = listFromDict(dictB)\n",
        "list3 = listFromDict(dictC)\n",
        "list4 = listFromDict(dictD)\n",
        "list5 = listFromDict(dictE)"
      ],
      "execution_count": null,
      "outputs": []
    },
    {
      "cell_type": "code",
      "metadata": {
        "id": "taPcHMID-TCW"
      },
      "source": [
        "uniqueWords = set(list1).union(set(list2))\n",
        "uniqueWords = set(list3).union(set(uniqueWords))\n",
        "uniqueWords = set(list4).union(set(uniqueWords))\n",
        "uniqueWords = set(list5).union(set(uniqueWords))"
      ],
      "execution_count": null,
      "outputs": []
    },
    {
      "cell_type": "markdown",
      "metadata": {
        "id": "1kLiNrab-TCW"
      },
      "source": [
        "### Class Frequency"
      ]
    },
    {
      "cell_type": "code",
      "metadata": {
        "id": "p3xvrTtc-TCX"
      },
      "source": [
        "classFreq = dict.fromkeys(uniqueWords, 0)\n",
        "for i in uniqueWords:\n",
        "    if i in list1:\n",
        "      classFreq[i] += 1\n",
        "    if i in list2:\n",
        "      classFreq[i] += 1\n",
        "    if i in list3:\n",
        "      classFreq[i] += 1\n",
        "    if i in list4:\n",
        "      classFreq[i] += 1\n",
        "    if i in list5:\n",
        "      classFreq[i] += 1 "
      ],
      "execution_count": null,
      "outputs": []
    },
    {
      "cell_type": "code",
      "metadata": {
        "id": "TJqeZ9Vi-TCX"
      },
      "source": [
        "f = open('/content/drive/MyDrive/IR/Assignment3/80_split/classFreq.txt', 'w')\n",
        "f.write(str(classFreq))\n",
        "f.close()"
      ],
      "execution_count": null,
      "outputs": []
    },
    {
      "cell_type": "markdown",
      "metadata": {
        "id": "4SbhHUxS-TCY"
      },
      "source": [
        "### ICF"
      ]
    },
    {
      "cell_type": "code",
      "metadata": {
        "id": "BRuQ6vcf-TCY"
      },
      "source": [
        "icfA = dict.fromkeys(list1, 0)\n",
        "for i,j in classFreq.items():\n",
        "  if i in list1:\n",
        "   icfA[i] = np.log((5/j))\n",
        "icfB = dict.fromkeys(list2, 0)\n",
        "for i,j in classFreq.items():\n",
        "  if i in list2:\n",
        "   icfB[i] = np.log((5/j))\n",
        "icfC = dict.fromkeys(list3, 0)\n",
        "for i,j in classFreq.items():\n",
        "  if i in list3:\n",
        "   icfC[i] = np.log((5/j))\n",
        "icfD = dict.fromkeys(list4, 0)\n",
        "for i,j in classFreq.items():\n",
        "  if i in list4:\n",
        "   icfD[i] = np.log((5/j))\n",
        "icfE = dict.fromkeys(list5, 0)\n",
        "for i,j in classFreq.items():\n",
        "  if i in list5:\n",
        "   icfE[i] = np.log((5/j))"
      ],
      "execution_count": null,
      "outputs": []
    },
    {
      "cell_type": "code",
      "metadata": {
        "id": "7BZ-Ncgo-TCY"
      },
      "source": [
        "f = open('/content/drive/MyDrive/IR/Assignment3/80_split/icfC.Dxt', 'w')\n",
        "f.write(str(icfD))\n",
        "f.close()"
      ],
      "execution_count": null,
      "outputs": []
    },
    {
      "cell_type": "code",
      "metadata": {
        "id": "Tv1Mr-UY-TCZ"
      },
      "source": [
        "f = open('/content/drive/MyDrive/IR/Assignment3/80_20_split/icfA.txt', 'r')\n",
        "icfA = f.read()\n",
        "f.close()\n",
        "icfA = ast.literal_eval(icfA)\n",
        "f = open('/content/drive/MyDrive/IR/Assignment3/80_20_split/icfB.txt', 'r')\n",
        "icfB = f.read()\n",
        "f.close()\n",
        "icfB = ast.literal_eval(icfB)\n",
        "f = open('/content/drive/MyDrive/IR/Assignment3/80_20_split/icfC.txt', 'r')\n",
        "icfC = f.read()\n",
        "f.close()\n",
        "icfC = ast.literal_eval(icfC)\n",
        "f = open('/content/drive/MyDrive/IR/Assignment3/80_20_split/icfD.txt', 'r')\n",
        "icfD = f.read()\n",
        "f.close()\n",
        "icfD = ast.literal_eval(icfD)\n",
        "f = open('/content/drive/MyDrive/IR/Assignment3/80_20_split/icfE.txt', 'r')\n",
        "icfE = f.read()\n",
        "f.close()\n",
        "icfE = ast.literal_eval(icfE)"
      ],
      "execution_count": null,
      "outputs": []
    },
    {
      "cell_type": "markdown",
      "metadata": {
        "id": "KuEI_R2V-TCZ"
      },
      "source": [
        "### TF-ICF"
      ]
    },
    {
      "cell_type": "code",
      "metadata": {
        "id": "U-3IHBZC-TCa"
      },
      "source": [
        "def compute_tficf(dicttf, idfs):\n",
        "  tfidf = {}\n",
        "  for word, i in dicttf.items():\n",
        "      tfidf[word] = i * idfs[word]\n",
        "  return tfidf"
      ],
      "execution_count": null,
      "outputs": []
    },
    {
      "cell_type": "code",
      "metadata": {
        "id": "p03XnL-Z-TCa"
      },
      "source": [
        "tficfA = compute_tficf(dictA,icfA)\n",
        "tficfB = compute_tficf(dictB,icfB)\n",
        "tficfC = compute_tficf(dictC,icfC)\n",
        "tficfD = compute_tficf(dictD,icfD)\n",
        "tficfE = compute_tficf(dictE,icfE)"
      ],
      "execution_count": null,
      "outputs": []
    },
    {
      "cell_type": "code",
      "metadata": {
        "colab": {
          "base_uri": "https://localhost:8080/"
        },
        "id": "ucQ2CVt5-TCb",
        "outputId": "abd9c69b-e4f4-4af8-e0a2-4442d07e20ee"
      },
      "source": [
        "len(tficfA) , len(tficfB) , len(tficfC) , len(tficfD) , len(tficfE)"
      ],
      "execution_count": null,
      "outputs": [
        {
          "output_type": "execute_result",
          "data": {
            "text/plain": [
              "(14778, 17262, 16920, 16267, 14760)"
            ]
          },
          "metadata": {
            "tags": []
          },
          "execution_count": 19
        }
      ]
    },
    {
      "cell_type": "code",
      "metadata": {
        "id": "S0hMkB1v-TCc"
      },
      "source": [
        "tficfA_s = sorted(tficfA.items(), reverse=True  , key = lambda kv:(kv[1], kv[0])) \n",
        "tficfB_s = sorted(tficfB.items(), reverse=True  , key = lambda kv:(kv[1], kv[0]))\n",
        "tficfC_s = sorted(tficfC.items(), reverse=True  , key = lambda kv:(kv[1], kv[0]))\n",
        "tficfD_s = sorted(tficfD.items(), reverse=True  , key = lambda kv:(kv[1], kv[0]))\n",
        "tficfE_s = sorted(tficfE.items(), reverse=True  , key = lambda kv:(kv[1], kv[0]))"
      ],
      "execution_count": null,
      "outputs": []
    },
    {
      "cell_type": "code",
      "metadata": {
        "id": "1qPpi1ZY-TCd"
      },
      "source": [
        "f = open('/content/drive/MyDrive/IR/Assignment3/80_split/tficfA.txt', 'w')\n",
        "f.write(str(tficfA_s))\n",
        "f.close()\n",
        "f = open('/content/drive/MyDrive/IR/Assignment3/80_split/tficfB.txt', 'w')\n",
        "f.write(str(tficfB_s))\n",
        "f.close()\n",
        "f = open('/content/drive/MyDrive/IR/Assignment3/80_split/tficfC.txt', 'w')\n",
        "f.write(str(tficfC_s))\n",
        "f.close()\n",
        "f = open('/content/drive/MyDrive/IR/Assignment3/80_split/tficfD.txt', 'w')\n",
        "f.write(str(tficfD_s))\n",
        "f.close()\n",
        "f = open('/content/drive/MyDrive/IR/Assignment3/80_split/tficfE.txt', 'w')\n",
        "f.write(str(tficfE_s))\n",
        "f.close()"
      ],
      "execution_count": null,
      "outputs": []
    },
    {
      "cell_type": "code",
      "metadata": {
        "id": "FePB9AFD-TCd"
      },
      "source": [
        "f = open('/content/drive/MyDrive/IR/Assignment3/80_20_split/tficfA.txt', 'r')\n",
        "tficfA = f.read()\n",
        "f.close()\n",
        "tficfA = ast.literal_eval(tficfA)\n",
        "f = open('/content/drive/MyDrive/IR/Assignment3/80_20_split/tficfB.txt', 'r')\n",
        "tficfB = f.read()\n",
        "f.close()\n",
        "tficfB = ast.literal_eval(tficfB)\n",
        "f = open('/content/drive/MyDrive/IR/Assignment3/80_20_split/tficfC.txt', 'r')\n",
        "tficfC = f.read()\n",
        "f.close()\n",
        "tficfC = ast.literal_eval(tficfC)\n",
        "f = open('/content/drive/MyDrive/IR/Assignment3/80_20_split/tficfD.txt', 'r')\n",
        "tficfD = f.read()\n",
        "f.close()\n",
        "tficfD = ast.literal_eval(tficfD)\n",
        "f = open('/content/drive/MyDrive/IR/Assignment3/80_20_split/tficfE.txt', 'r')\n",
        "tficfE = f.read()\n",
        "f.close()\n",
        "tficfE = ast.literal_eval(tficfE)"
      ],
      "execution_count": null,
      "outputs": []
    },
    {
      "cell_type": "markdown",
      "metadata": {
        "id": "zMhio8OT-TCe"
      },
      "source": [
        "### Select top K features"
      ]
    },
    {
      "cell_type": "code",
      "metadata": {
        "id": "-USU7kCd-TCe"
      },
      "source": [
        "vocab = []\n",
        "count=14000 #K \n",
        "for i in tficfA_s:\n",
        "   if count>0:\n",
        "     count-=1\n",
        "     if i[0] not in vocab:\n",
        "       vocab.append(i[0])\n",
        "count=14000 #K \n",
        "for i in tficfB_s:\n",
        "   if count>0:\n",
        "     count-=1\n",
        "     if i[0] not in vocab:\n",
        "       vocab.append(i[0])\n",
        "count=14000 #K \n",
        "for i in tficfC_s:\n",
        "   if count>0:\n",
        "     count-=1\n",
        "     if i[0] not in vocab:\n",
        "       vocab.append(i[0])\n",
        "count=14000 #K \n",
        "for i in tficfD_s:\n",
        "   if count>0:\n",
        "     count-=1\n",
        "     if i[0] not in vocab:\n",
        "       vocab.append(i[0])\n",
        "count=14000 #K \n",
        "for i in tficfE_s:\n",
        "   if count>0:\n",
        "     count-=1\n",
        "     if i[0] not in vocab:\n",
        "       vocab.append(i[0])"
      ],
      "execution_count": null,
      "outputs": []
    },
    {
      "cell_type": "code",
      "metadata": {
        "colab": {
          "base_uri": "https://localhost:8080/"
        },
        "id": "oF6fnDJi-TCf",
        "outputId": "b511d226-9630-40e0-f008-2c41cb2fb788"
      },
      "source": [
        "len(vocab)"
      ],
      "execution_count": null,
      "outputs": [
        {
          "output_type": "execute_result",
          "data": {
            "text/plain": [
              "49335"
            ]
          },
          "metadata": {
            "tags": []
          },
          "execution_count": 23
        }
      ]
    },
    {
      "cell_type": "code",
      "metadata": {
        "id": "ftNd6ava-TCf"
      },
      "source": [
        "f = open('/content/drive/MyDrive/IR/Assignment3/80_split/vocab.txt', 'w')\n",
        "f.write(str(vocab))\n",
        "f.close()"
      ],
      "execution_count": null,
      "outputs": []
    },
    {
      "cell_type": "code",
      "metadata": {
        "id": "U5NYBS6x-TCg"
      },
      "source": [
        "f = open('/content/drive/MyDrive/IR/Assignment3/80_20_split/vocab.txt', 'r')\n",
        "vocab = f.read()\n",
        "f.close()"
      ],
      "execution_count": null,
      "outputs": []
    },
    {
      "cell_type": "markdown",
      "metadata": {
        "id": "eR9KsG0M-TCj"
      },
      "source": [
        "### Training data"
      ]
    },
    {
      "cell_type": "code",
      "metadata": {
        "id": "_M3EfuC3-TCj"
      },
      "source": [
        "prior=[0.2,0.2,0.2,0.2,0.2]\n",
        "condi_prob = np.zeros((5,len(vocab)))\n",
        "condi_prob=condi_prob.astype('float')\n",
        "dictVocab = dict.fromkeys(vocab,0)\n",
        "count=0\n",
        "for i,j in dictVocab.items():\n",
        "  dictVocab[i]=count\n",
        "  count+=1"
      ],
      "execution_count": null,
      "outputs": []
    },
    {
      "cell_type": "code",
      "metadata": {
        "id": "bB4DmaGE-TCk"
      },
      "source": [
        "def find_condi_prob(vocab,dictA,dictB,dictC,dictD,dictE,condi_prob):\n",
        "  count = 0\n",
        "  for t in vocab[:-1]:\n",
        "      tat=tbt=tct=tdt=tet=0\n",
        "      if t in dictA:\n",
        "        tat = dictA[t]\n",
        "      if t in dictB:\n",
        "        tbt = dictB[t]\n",
        "      if t in dictC:\n",
        "        tct = dictC[t]\n",
        "      if t in dictD:\n",
        "        tdt = dictD[t]\n",
        "      if t in dictE:\n",
        "        tet = dictE[t]\n",
        "      condi_prob[0][count] = (tat+1)/(tat+tbt+tct+tdt+tet+5)\n",
        "      condi_prob[1][count] = (tbt+1)/(tat+tbt+tct+tdt+tet+5)\n",
        "      condi_prob[2][count] = (tct+1)/(tat+tbt+tct+tdt+tet+5)\n",
        "      condi_prob[3][count] = (tdt+1)/(tat+tbt+tct+tdt+tet+5)\n",
        "      condi_prob[4][count] = (tet+1)/(tat+tbt+tct+tdt+tet+5)\n",
        "      count += 1\n",
        "  return condi_prob"
      ],
      "execution_count": null,
      "outputs": []
    },
    {
      "cell_type": "code",
      "metadata": {
        "id": "1x2kY7JH-TCk"
      },
      "source": [
        "condi_prob = find_condi_prob(vocab,dictA,dictB,dictC,dictD,dictE,condi_prob)"
      ],
      "execution_count": null,
      "outputs": []
    },
    {
      "cell_type": "code",
      "metadata": {
        "id": "7voBykOc-TCl"
      },
      "source": [
        "def predict(D):\n",
        "  y_pred=[]\n",
        "  for d in D:\n",
        "    W=[]\n",
        "    for w in d:\n",
        "      if w in dictVocab.keys():\n",
        "        W.append(w)\n",
        "      score = np.zeros(5)\n",
        "    for c in range(5):\n",
        "      score[c] = np.log(prior[c])\n",
        "      for w in W:\n",
        "        t = dictVocab[w]\n",
        "        score[c] += np.log(condi_prob[c][t])  \n",
        "    max = np.argmax(score)\n",
        "    y_pred.append(max+1)\n",
        "  return y_pred"
      ],
      "execution_count": null,
      "outputs": []
    },
    {
      "cell_type": "code",
      "metadata": {
        "id": "lY29mm1--TCl"
      },
      "source": [
        "def create_test_data(path1,path2,path3,path4,path5,path11,path21,path31,path41,path51):\n",
        "  dictTest = []\n",
        "  y_test = []\n",
        "  files = path1\n",
        "  for file in files:\n",
        "    fw = open(path11+file).read()\n",
        "    d = []\n",
        "    for i in fw.split():\n",
        "      d.append(i)\n",
        "    dictTest.append(d)\n",
        "    y_test.append(1)\n",
        "  files = path2\n",
        "  for file in files:\n",
        "    fw = open(path21+file).read()\n",
        "    d = []\n",
        "    for i in fw.split():\n",
        "      d.append(i)\n",
        "    dictTest.append(d)\n",
        "    y_test.append(2)\n",
        "  files = path3\n",
        "  for file in files:\n",
        "    fw = open(path31+file).read()\n",
        "    d = []\n",
        "    for i in fw.split():\n",
        "      d.append(i)\n",
        "    dictTest.append(d)\n",
        "    y_test.append(3)\n",
        "  files = path4\n",
        "  for file in files:\n",
        "    fw = open(path41+file).read()\n",
        "    d = []\n",
        "    for i in fw.split():\n",
        "      d.append(i)\n",
        "    dictTest.append(d)\n",
        "    y_test.append(4)\n",
        "  files = path5\n",
        "  for file in files:\n",
        "    fw = open(path51+file).read()\n",
        "    d = []\n",
        "    for i in fw.split():\n",
        "      d.append(i)\n",
        "    dictTest.append(d)\n",
        "    y_test.append(5)\n",
        "  return dictTest,y_test"
      ],
      "execution_count": null,
      "outputs": []
    },
    {
      "cell_type": "code",
      "metadata": {
        "id": "_Tnmret3-TCm"
      },
      "source": [
        "path11 = '/content/drive/MyDrive/IR/Assignment3/cleaning2/comp.graphics/'\n",
        "path21 = '/content/drive/MyDrive/IR/Assignment3/cleaning2/sci.med/'\n",
        "path31 = '/content/drive/MyDrive/IR/Assignment3/cleaning2/sci.space/'\n",
        "path41 = '/content/drive/MyDrive/IR/Assignment3/cleaning2/talk.politics.misc/'\n",
        "path51 = '/content/drive/MyDrive/IR/Assignment3/cleaning2/rec.sport.hockey/'"
      ],
      "execution_count": null,
      "outputs": []
    },
    {
      "cell_type": "code",
      "metadata": {
        "id": "iNhJbOeA-TCm"
      },
      "source": [
        "f = open('/content/drive/MyDrive/IR/Assignment3/80_split/testA20.txt', 'r')\n",
        "testA20 = f.read()\n",
        "f.close()\n",
        "testA20 = ast.literal_eval(testA20)\n",
        "f = open('/content/drive/MyDrive/IR/Assignment3/80_split/testB20.txt', 'r')\n",
        "testB20 = f.read()\n",
        "f.close()\n",
        "testB20 = ast.literal_eval(testB20)\n",
        "f = open('/content/drive/MyDrive/IR/Assignment3/80_split/testC20.txt', 'r')\n",
        "testC20 = f.read()\n",
        "f.close()\n",
        "testC20 = ast.literal_eval(testC20)\n",
        "f = open('/content/drive/MyDrive/IR/Assignment3/80_split/testD20.txt', 'r')\n",
        "testD20 = f.read()\n",
        "f.close()\n",
        "testD20 = ast.literal_eval(testD20)\n",
        "f = open('/content/drive/MyDrive/IR/Assignment3/80_split/testE20.txt', 'r')\n",
        "testE20 = f.read()\n",
        "f.close()\n",
        "testE20 = ast.literal_eval(testE20)"
      ],
      "execution_count": null,
      "outputs": []
    },
    {
      "cell_type": "code",
      "metadata": {
        "id": "atojGrsK-TCn"
      },
      "source": [
        "X_test,y_test = create_test_data(testA20,testB20,testC20,testD20,testE20,path11,path21,path31,path41,path51)"
      ],
      "execution_count": null,
      "outputs": []
    },
    {
      "cell_type": "code",
      "metadata": {
        "colab": {
          "base_uri": "https://localhost:8080/"
        },
        "id": "eI0D8utY-TCn",
        "outputId": "5d54dcdc-f4be-45b1-f023-ee9795cabfd4"
      },
      "source": [
        "y_pred = predict(X_test)"
      ],
      "execution_count": null,
      "outputs": [
        {
          "output_type": "stream",
          "text": [
            "/usr/local/lib/python3.7/dist-packages/ipykernel_launcher.py:13: RuntimeWarning: divide by zero encountered in log\n",
            "  del sys.path[0]\n"
          ],
          "name": "stderr"
        }
      ]
    },
    {
      "cell_type": "code",
      "metadata": {
        "colab": {
          "base_uri": "https://localhost:8080/"
        },
        "id": "4WL1Sh3h-TCo",
        "outputId": "09f2eda6-cedc-4a3c-e649-264102567d30"
      },
      "source": [
        "r = find_confusion_matrix(y_test,y_pred)\n",
        "print('Confusion Matrix : ')\n",
        "print(r)"
      ],
      "execution_count": null,
      "outputs": [
        {
          "output_type": "stream",
          "text": [
            "Confusion Matrix : \n",
            "[[192.   0.   3.   5.   0.]\n",
            " [  6. 185.   0.   8.   1.]\n",
            " [  7.   0. 183.  10.   0.]\n",
            " [  4.   1.   2. 193.   0.]\n",
            " [  6.   0.   0.   3. 191.]]\n"
          ],
          "name": "stdout"
        }
      ]
    },
    {
      "cell_type": "code",
      "metadata": {
        "colab": {
          "base_uri": "https://localhost:8080/"
        },
        "id": "-FCRLWoj-TCo",
        "outputId": "fe34dfb6-b7c8-4c26-954c-17d9e05c777b"
      },
      "source": [
        "plot_heatMap(r)"
      ],
      "execution_count": null,
      "outputs": [
        {
          "output_type": "display_data",
          "data": {
            "image/png": "[encoded data removed]",
            "text/plain": [
              "<Figure size 576x432 with 2 Axes>"
            ]
          },
          "metadata": {
            "tags": [],
            "needs_background": "light"
          }
        }
      ]
    },
    {
      "cell_type": "code",
      "metadata": {
        "colab": {
          "base_uri": "https://localhost:8080/"
        },
        "id": "87oHoMr5-TCp",
        "outputId": "e9bf2b8e-1525-4405-d475-3482813724c5"
      },
      "source": [
        "acc = find_acc(y_test,y_pred)\n",
        "print('Testing accuracy : ',acc)"
      ],
      "execution_count": null,
      "outputs": [
        {
          "output_type": "stream",
          "text": [
            "Testing accuracy :  0.944\n"
          ],
          "name": "stdout"
        }
      ]
    },
    {
      "cell_type": "markdown",
      "metadata": {
        "id": "0W6GoDs2hnr9"
      },
      "source": [
        "# 70:30 split"
      ]
    },
    {
      "cell_type": "markdown",
      "metadata": {
        "id": "kNo1xWDphsez"
      },
      "source": [
        "### split"
      ]
    },
    {
      "cell_type": "code",
      "metadata": {
        "id": "pzalVRc1hse0"
      },
      "source": [
        "noOfDocA=[]\n",
        "noOfDocB=[]\n",
        "noOfDocC=[]\n",
        "noOfDocD=[]\n",
        "noOfDocE=[]\n",
        "files = os.listdir('/content/drive/MyDrive/IR/Assignment3/cleaning2/comp.graphics')\n",
        "for file in files:\n",
        "  noOfDocA.append(file)\n",
        "files = os.listdir('/content/drive/MyDrive/IR/Assignment3/cleaning2/sci.med')\n",
        "for file in files:\n",
        "  noOfDocB.append(file)\n",
        "files = os.listdir('/content/drive/MyDrive/IR/Assignment3/cleaning2/sci.space')\n",
        "for file in files:\n",
        "  noOfDocC.append(file)\n",
        "files = os.listdir('/content/drive/MyDrive/IR/Assignment3/cleaning2/talk.politics.misc')\n",
        "for file in files:\n",
        "  noOfDocD.append(file)\n",
        "files = os.listdir('/content/drive/MyDrive/IR/Assignment3/cleaning2/rec.sport.hockey')\n",
        "for file in files:\n",
        "  noOfDocE.append(file)"
      ],
      "execution_count": null,
      "outputs": []
    },
    {
      "cell_type": "code",
      "metadata": {
        "id": "CssSrS-PhsfL"
      },
      "source": [
        "random.shuffle(noOfDocA)\n",
        "random.shuffle(noOfDocB)\n",
        "random.shuffle(noOfDocC)\n",
        "random.shuffle(noOfDocD)\n",
        "random.shuffle(noOfDocE)"
      ],
      "execution_count": null,
      "outputs": []
    },
    {
      "cell_type": "code",
      "metadata": {
        "id": "E6eRBgDchsfM"
      },
      "source": [
        "trainA70=noOfDocA[:700]\n",
        "testA30=noOfDocA[-300:]\n",
        "trainB70=noOfDocB[:700]\n",
        "testB30=noOfDocB[-300:]\n",
        "trainC70=noOfDocC[:700]\n",
        "testC30=noOfDocC[-300:]\n",
        "trainD70=noOfDocD[:700]\n",
        "testD30=noOfDocD[-300:]\n",
        "trainE70=noOfDocE[:700]\n",
        "testE30=noOfDocE[-300:]"
      ],
      "execution_count": null,
      "outputs": []
    },
    {
      "cell_type": "code",
      "metadata": {
        "id": "AKxntb5ChsfM"
      },
      "source": [
        "f = open('/content/drive/MyDrive/IR/Assignment3/70_30_split/trainA70.txt', 'w')\n",
        "f.write(str(trainA70))\n",
        "f.close()\n",
        "f = open('/content/drive/MyDrive/IR/Assignment3/70_30_split/testA30.txt', 'w')\n",
        "f.write(str(testA30))\n",
        "f.close()\n",
        "f = open('/content/drive/MyDrive/IR/Assignment3/70_30_split/trainB70.txt', 'w')\n",
        "f.write(str(trainB70))\n",
        "f.close()\n",
        "f = open('/content/drive/MyDrive/IR/Assignment3/70_30_split/testB30.txt', 'w')\n",
        "f.write(str(testB30))\n",
        "f.close()\n",
        "f = open('/content/drive/MyDrive/IR/Assignment3/70_30_split/trainC70.txt', 'w')\n",
        "f.write(str(trainC70))\n",
        "f.close()\n",
        "f = open('/content/drive/MyDrive/IR/Assignment3/70_30_split/testC30.txt', 'w')\n",
        "f.write(str(testC30))\n",
        "f.close()\n",
        "f = open('/content/drive/MyDrive/IR/Assignment3/70_30_split/trainD70.txt', 'w')\n",
        "f.write(str(trainD70))\n",
        "f.close()\n",
        "f = open('/content/drive/MyDrive/IR/Assignment3/70_30_split/testD30.txt', 'w')\n",
        "f.write(str(testD30))\n",
        "f.close()\n",
        "f = open('/content/drive/MyDrive/IR/Assignment3/70_30_split/trainE70.txt', 'w')\n",
        "f.write(str(trainE70))\n",
        "f.close()\n",
        "f = open('/content/drive/MyDrive/IR/Assignment3/70_30_split/testE30.txt', 'w')\n",
        "f.write(str(testE30))\n",
        "f.close()"
      ],
      "execution_count": null,
      "outputs": []
    },
    {
      "cell_type": "markdown",
      "metadata": {
        "id": "b7tPJdVBhsfN"
      },
      "source": [
        "### Creating Vocab with Frequency"
      ]
    },
    {
      "cell_type": "code",
      "metadata": {
        "id": "CfwltQGChsfN"
      },
      "source": [
        "def create_dict(path,path1):\n",
        "  files = path\n",
        "  dictA = {}\n",
        "  for file in files:\n",
        "    fw = open(path1+file).read()\n",
        "    for i in fw.split():\n",
        "      if i not in dictA.keys():\n",
        "        dictA[i] = 1\n",
        "      else :\n",
        "        dictA[i] = dictA[i]+1\n",
        "  return dictA"
      ],
      "execution_count": null,
      "outputs": []
    },
    {
      "cell_type": "code",
      "metadata": {
        "id": "pwiVZsu1hsfO"
      },
      "source": [
        "#path = '/content/drive/MyDrive/IR/Assignment3/80_20_split/trainA80'\n",
        "path1 = '/content/drive/MyDrive/IR/Assignment3/cleaning2/comp.graphics/'\n",
        "path = trainA70\n",
        "dictA = create_dict(path,path1)"
      ],
      "execution_count": null,
      "outputs": []
    },
    {
      "cell_type": "code",
      "metadata": {
        "id": "nPQHUvKVhsfP"
      },
      "source": [
        "path1 = '/content/drive/MyDrive/IR/Assignment3/cleaning2/sci.med/'\n",
        "path = trainB70\n",
        "dictB = create_dict(path,path1)"
      ],
      "execution_count": null,
      "outputs": []
    },
    {
      "cell_type": "code",
      "metadata": {
        "id": "68Dqz0G8i1gd"
      },
      "source": [
        "path1 = '/content/drive/MyDrive/IR/Assignment3/cleaning2/sci.space/'\n",
        "path = trainC70\n",
        "dictC = create_dict(path,path1)"
      ],
      "execution_count": null,
      "outputs": []
    },
    {
      "cell_type": "code",
      "metadata": {
        "id": "aO7yE-g5i-Rz"
      },
      "source": [
        "path1 = '/content/drive/MyDrive/IR/Assignment3/cleaning2/talk.politics.misc/'\n",
        "path = trainD70\n",
        "dictD = create_dict(path,path1)"
      ],
      "execution_count": null,
      "outputs": []
    },
    {
      "cell_type": "code",
      "metadata": {
        "id": "czuFWmJehsfR"
      },
      "source": [
        "path1 = '/content/drive/MyDrive/IR/Assignment3/cleaning2/rec.sport.hockey/'\n",
        "path = trainE70\n",
        "dictE = create_dict(path,path1)"
      ],
      "execution_count": null,
      "outputs": []
    },
    {
      "cell_type": "code",
      "metadata": {
        "id": "h3mLmeZmhsfS"
      },
      "source": [
        "def listFromDict(dicta):\n",
        "  list1=[]\n",
        "  for i,j in dicta.items():\n",
        "      list1.append(i)\n",
        "  return list1"
      ],
      "execution_count": null,
      "outputs": []
    },
    {
      "cell_type": "code",
      "metadata": {
        "id": "ynogLm4jhsfS"
      },
      "source": [
        "f = open('/content/drive/MyDrive/IR/Assignment3/70_30_split/dictA.txt', 'w')\n",
        "f.write(str(dictA))\n",
        "f.close()\n",
        "f = open('/content/drive/MyDrive/IR/Assignment3/70_30_split/dictBtxt', 'w')\n",
        "f.write(str(dictB))\n",
        "f.close()\n",
        "f = open('/content/drive/MyDrive/IR/Assignment3/70_30_split/dictC.txt', 'w')\n",
        "f.write(str(dictC))\n",
        "f.close()\n",
        "f = open('/content/drive/MyDrive/IR/Assignment3/70_30_split/dictD.txt', 'w')\n",
        "f.write(str(dictD))\n",
        "f.close()\n",
        "f = open('/content/drive/MyDrive/IR/Assignment3/70_30_split/dictE.txt', 'w')\n",
        "f.write(str(dictE))\n",
        "f.close()"
      ],
      "execution_count": null,
      "outputs": []
    },
    {
      "cell_type": "code",
      "metadata": {
        "id": "kRlpIyRzhsfT"
      },
      "source": [
        "f = open('/content/drive/MyDrive/IR/Assignment3/80_20_split/dictA.txt', 'r')\n",
        "dictA = f.read()\n",
        "f.close()\n",
        "dictA = ast.literal_eval(dictA)\n",
        "f = open('/content/drive/MyDrive/IR/Assignment3/80_20_split/dictB.txt', 'r')\n",
        "dictB = f.read()\n",
        "f.close()\n",
        "dictB = ast.literal_eval(dictB)\n",
        "f = open('/content/drive/MyDrive/IR/Assignment3/80_20_split/dictC.txt', 'r')\n",
        "dictC = f.read()\n",
        "f.close()\n",
        "dictC = ast.literal_eval(dictC)\n",
        "f = open('/content/drive/MyDrive/IR/Assignment3/80_20_split/dictD.txt', 'r')\n",
        "dictD = f.read()\n",
        "f.close()\n",
        "dictD = ast.literal_eval(dictD)\n",
        "f = open('/content/drive/MyDrive/IR/Assignment3/80_20_split/dictE.txt', 'r')\n",
        "dictE = f.read()\n",
        "f.close()\n",
        "dictE = ast.literal_eval(dictE)"
      ],
      "execution_count": null,
      "outputs": []
    },
    {
      "cell_type": "code",
      "metadata": {
        "id": "YBw614rhhsfT"
      },
      "source": [
        "list1 = listFromDict(dictA)\n",
        "list2 = listFromDict(dictB)\n",
        "list3 = listFromDict(dictC)\n",
        "list4 = listFromDict(dictD)\n",
        "list5 = listFromDict(dictE)"
      ],
      "execution_count": null,
      "outputs": []
    },
    {
      "cell_type": "code",
      "metadata": {
        "id": "ikAtazabhsfU"
      },
      "source": [
        "uniqueWords = set(list1).union(set(list2))\n",
        "uniqueWords = set(list3).union(set(uniqueWords))\n",
        "uniqueWords = set(list4).union(set(uniqueWords))\n",
        "uniqueWords = set(list5).union(set(uniqueWords))"
      ],
      "execution_count": null,
      "outputs": []
    },
    {
      "cell_type": "markdown",
      "metadata": {
        "id": "DrXbXh2LhsfU"
      },
      "source": [
        "### Class Frequency"
      ]
    },
    {
      "cell_type": "code",
      "metadata": {
        "id": "Hb7ElhZQhsfU"
      },
      "source": [
        "classFreq = dict.fromkeys(uniqueWords, 0)\n",
        "for i in uniqueWords:\n",
        "    if i in list1:\n",
        "      classFreq[i] += 1\n",
        "    if i in list2:\n",
        "      classFreq[i] += 1\n",
        "    if i in list3:\n",
        "      classFreq[i] += 1\n",
        "    if i in list4:\n",
        "      classFreq[i] += 1\n",
        "    if i in list5:\n",
        "      classFreq[i] += 1 "
      ],
      "execution_count": null,
      "outputs": []
    },
    {
      "cell_type": "code",
      "metadata": {
        "id": "YBgCW01OhsfV"
      },
      "source": [
        "f = open('/content/drive/MyDrive/IR/Assignment3/70_30_split/classFreq.txt', 'w')\n",
        "f.write(str(classFreq))\n",
        "f.close()"
      ],
      "execution_count": null,
      "outputs": []
    },
    {
      "cell_type": "markdown",
      "metadata": {
        "id": "qm4DRC4MhsfV"
      },
      "source": [
        "### ICF"
      ]
    },
    {
      "cell_type": "code",
      "metadata": {
        "id": "bbK15Z_0hsfW"
      },
      "source": [
        "icfA = dict.fromkeys(list1, 0)\n",
        "for i,j in classFreq.items():\n",
        "  if i in list1:\n",
        "   icfA[i] = np.log((5/j))\n",
        "icfB = dict.fromkeys(list2, 0)\n",
        "for i,j in classFreq.items():\n",
        "  if i in list2:\n",
        "   icfB[i] = np.log((5/j))\n",
        "icfC = dict.fromkeys(list3, 0)\n",
        "for i,j in classFreq.items():\n",
        "  if i in list3:\n",
        "   icfC[i] = np.log((5/j))\n",
        "icfD = dict.fromkeys(list4, 0)\n",
        "for i,j in classFreq.items():\n",
        "  if i in list4:\n",
        "   icfD[i] = np.log((5/j))\n",
        "icfE = dict.fromkeys(list5, 0)\n",
        "for i,j in classFreq.items():\n",
        "  if i in list5:\n",
        "   icfE[i] = np.log((5/j))"
      ],
      "execution_count": null,
      "outputs": []
    },
    {
      "cell_type": "code",
      "metadata": {
        "id": "zOdtjqOthsfW"
      },
      "source": [
        "f = open('/content/drive/MyDrive/IR/Assignment3/70_30_split/icfA.txt', 'w')\n",
        "f.write(str(icfA))\n",
        "f.close()\n",
        "f = open('/content/drive/MyDrive/IR/Assignment3/70_30_split/icfB.txt', 'w')\n",
        "f.write(str(icfB))\n",
        "f.close()\n",
        "f = open('/content/drive/MyDrive/IR/Assignment3/70_30_split/icfC.txt', 'w')\n",
        "f.write(str(icfC))\n",
        "f.close()\n",
        "f = open('/content/drive/MyDrive/IR/Assignment3/70_30_split/icfD.txt', 'w')\n",
        "f.write(str(icfD))\n",
        "f.close()\n",
        "f = open('/content/drive/MyDrive/IR/Assignment3/70_30_split/icfE.txt', 'w')\n",
        "f.write(str(icfE))\n",
        "f.close()"
      ],
      "execution_count": null,
      "outputs": []
    },
    {
      "cell_type": "code",
      "metadata": {
        "id": "QNJ8NfqBhsfX"
      },
      "source": [
        "f = open('/content/drive/MyDrive/IR/Assignment3/70_30_split/icfA.txt', 'r')\n",
        "icfA = f.read()\n",
        "f.close()\n",
        "icfA = ast.literal_eval(icfA)\n",
        "f = open('/content/drive/MyDrive/IR/Assignment3/70_30_split/icfB.txt', 'r')\n",
        "icfB = f.read()\n",
        "f.close()\n",
        "icfB = ast.literal_eval(icfB)\n",
        "f = open('/content/drive/MyDrive/IR/Assignment3/70_30_split/icfC.txt', 'r')\n",
        "icfC = f.read()\n",
        "f.close()\n",
        "icfC = ast.literal_eval(icfC)\n",
        "f = open('/content/drive/MyDrive/IR/Assignment3/70_30_split/icfD.txt', 'r')\n",
        "icfD = f.read()\n",
        "f.close()\n",
        "icfD = ast.literal_eval(icfD)\n",
        "f = open('/content/drive/MyDrive/IR/Assignment3/70_30_split/icfE.txt', 'r')\n",
        "icfE = f.read()\n",
        "f.close()\n",
        "icfE = ast.literal_eval(icfE)"
      ],
      "execution_count": null,
      "outputs": []
    },
    {
      "cell_type": "markdown",
      "metadata": {
        "id": "XgMR_ahQhsfX"
      },
      "source": [
        "### TF-ICF"
      ]
    },
    {
      "cell_type": "code",
      "metadata": {
        "id": "RdAOBNSChsfY"
      },
      "source": [
        "def compute_tficf(dicttf, idfs):\n",
        "  tfidf = {}\n",
        "  for word, i in dicttf.items():\n",
        "      tfidf[word] = i * idfs[word]\n",
        "  return tfidf"
      ],
      "execution_count": null,
      "outputs": []
    },
    {
      "cell_type": "code",
      "metadata": {
        "id": "wihtRA2chsfY"
      },
      "source": [
        "tficfA = compute_tficf(dictA,icfA)\n",
        "tficfB = compute_tficf(dictB,icfB)\n",
        "tficfC = compute_tficf(dictC,icfC)\n",
        "tficfD = compute_tficf(dictD,icfD)\n",
        "tficfE = compute_tficf(dictE,icfE)"
      ],
      "execution_count": null,
      "outputs": []
    },
    {
      "cell_type": "code",
      "metadata": {
        "colab": {
          "base_uri": "https://localhost:8080/"
        },
        "id": "ygtz4DklhsfZ",
        "outputId": "4bb9022a-08f8-4382-ba79-3bfbd8174c0c"
      },
      "source": [
        "len(tficfA) , len(tficfB) , len(tficfC) , len(tficfD) , len(tficfE)"
      ],
      "execution_count": null,
      "outputs": [
        {
          "output_type": "execute_result",
          "data": {
            "text/plain": [
              "(14001, 16856, 15492, 16037, 14001)"
            ]
          },
          "metadata": {
            "tags": []
          },
          "execution_count": 24
        }
      ]
    },
    {
      "cell_type": "code",
      "metadata": {
        "id": "3LhWIT7Mhsfa"
      },
      "source": [
        "tficfA_s = sorted(tficfA.items(), reverse=True  , key = lambda kv:(kv[1], kv[0])) \n",
        "tficfB_s = sorted(tficfB.items(), reverse=True  , key = lambda kv:(kv[1], kv[0]))\n",
        "tficfC_s = sorted(tficfC.items(), reverse=True  , key = lambda kv:(kv[1], kv[0]))\n",
        "tficfD_s = sorted(tficfD.items(), reverse=True  , key = lambda kv:(kv[1], kv[0]))\n",
        "tficfE_s = sorted(tficfE.items(), reverse=True  , key = lambda kv:(kv[1], kv[0]))"
      ],
      "execution_count": null,
      "outputs": []
    },
    {
      "cell_type": "code",
      "metadata": {
        "id": "0adHU43ohsfa"
      },
      "source": [
        "f = open('/content/drive/MyDrive/IR/Assignment3/70_30_split/tficfA.txt', 'w')\n",
        "f.write(str(tficfA_s))\n",
        "f.close()\n",
        "f = open('/content/drive/MyDrive/IR/Assignment3/70_30_split/tficfB.txt', 'w')\n",
        "f.write(str(tficfB_s))\n",
        "f.close()\n",
        "f = open('/content/drive/MyDrive/IR/Assignment3/70_30_split/tficfC.txt', 'w')\n",
        "f.write(str(tficfC_s))\n",
        "f.close()\n",
        "f = open('/content/drive/MyDrive/IR/Assignment3/70_30_split/tficfD.txt', 'w')\n",
        "f.write(str(tficfD_s))\n",
        "f.close()\n",
        "f = open('/content/drive/MyDrive/IR/Assignment3/70_30_split/tficfE.txt', 'w')\n",
        "f.write(str(tficfE_s))\n",
        "f.close()"
      ],
      "execution_count": null,
      "outputs": []
    },
    {
      "cell_type": "code",
      "metadata": {
        "id": "sEUgI-N1hsfb"
      },
      "source": [
        "f = open('/content/drive/MyDrive/IR/Assignment3/70_30_split/tficfA.txt', 'r')\n",
        "tficfA = f.read()\n",
        "f.close()\n",
        "tficfA = ast.literal_eval(tficfA)\n",
        "f = open('/content/drive/MyDrive/IR/Assignment3/70_30_split/tficfB.txt', 'r')\n",
        "tficfB = f.read()\n",
        "f.close()\n",
        "tficfB = ast.literal_eval(tficfB)\n",
        "f = open('/content/drive/MyDrive/IR/Assignment3/70_30_split/tficfC.txt', 'r')\n",
        "tficfC = f.read()\n",
        "f.close()\n",
        "tficfC = ast.literal_eval(tficfC)\n",
        "f = open('/content/drive/MyDrive/IR/Assignment3/70_30_split/tficfD.txt', 'r')\n",
        "tficfD = f.read()\n",
        "f.close()\n",
        "tficfD = ast.literal_eval(tficfD)\n",
        "f = open('/content/drive/MyDrive/IR/Assignment3/70_30_split/tficfE.txt', 'r')\n",
        "tficfE = f.read()\n",
        "f.close()\n",
        "tficfE = ast.literal_eval(tficfE)"
      ],
      "execution_count": null,
      "outputs": []
    },
    {
      "cell_type": "markdown",
      "metadata": {
        "id": "XRg2mTNZhsfb"
      },
      "source": [
        "### Select top K features"
      ]
    },
    {
      "cell_type": "code",
      "metadata": {
        "id": "LZ2h5P4rhsfb"
      },
      "source": [
        "vocab = []\n",
        "count=14000 #K \n",
        "for i in tficfA_s:\n",
        "   if count>0:\n",
        "     count-=1\n",
        "     if i[0] not in vocab:\n",
        "       vocab.append(i[0])\n",
        "count=14000 #K \n",
        "for i in tficfB_s:\n",
        "   if count>0:\n",
        "     count-=1\n",
        "     if i[0] not in vocab:\n",
        "       vocab.append(i[0])\n",
        "count=14000 #K \n",
        "for i in tficfC_s:\n",
        "   if count>0:\n",
        "     count-=1\n",
        "     if i[0] not in vocab:\n",
        "       vocab.append(i[0])\n",
        "count=14000 #K \n",
        "for i in tficfD_s:\n",
        "   if count>0:\n",
        "     count-=1\n",
        "     if i[0] not in vocab:\n",
        "       vocab.append(i[0])\n",
        "count=14000 #K \n",
        "for i in tficfE_s:\n",
        "   if count>0:\n",
        "     count-=1\n",
        "     if i[0] not in vocab:\n",
        "       vocab.append(i[0])"
      ],
      "execution_count": null,
      "outputs": []
    },
    {
      "cell_type": "code",
      "metadata": {
        "colab": {
          "base_uri": "https://localhost:8080/"
        },
        "id": "bzBxmJo6hsfb",
        "outputId": "8209643a-8905-4110-c149-29c4cecdecad"
      },
      "source": [
        "len(vocab)"
      ],
      "execution_count": null,
      "outputs": [
        {
          "output_type": "execute_result",
          "data": {
            "text/plain": [
              "47721"
            ]
          },
          "metadata": {
            "tags": []
          },
          "execution_count": 27
        }
      ]
    },
    {
      "cell_type": "code",
      "metadata": {
        "id": "3bTmPpyehsfb"
      },
      "source": [
        "f = open('/content/drive/MyDrive/IR/Assignment3/70_30_split/vocab.txt', 'w')\n",
        "f.write(str(vocab))\n",
        "f.close()"
      ],
      "execution_count": null,
      "outputs": []
    },
    {
      "cell_type": "code",
      "metadata": {
        "id": "j8eG2NaOhsfc"
      },
      "source": [
        "f = open('/content/drive/MyDrive/IR/Assignment3/70_30_split/vocab.txt', 'r')\n",
        "vocab = f.read()\n",
        "f.close()"
      ],
      "execution_count": null,
      "outputs": []
    },
    {
      "cell_type": "markdown",
      "metadata": {
        "id": "fRYL-l__hsfc"
      },
      "source": [
        "### Training data"
      ]
    },
    {
      "cell_type": "code",
      "metadata": {
        "id": "6I7EsPzThsfc"
      },
      "source": [
        "prior=[0.2,0.2,0.2,0.2,0.2]\n",
        "condi_prob = np.zeros((5,len(vocab)))\n",
        "condi_prob=condi_prob.astype('float')\n",
        "dictVocab = dict.fromkeys(vocab,0)\n",
        "count=0\n",
        "for i,j in dictVocab.items():\n",
        "  dictVocab[i]=count\n",
        "  count+=1"
      ],
      "execution_count": null,
      "outputs": []
    },
    {
      "cell_type": "code",
      "metadata": {
        "id": "nb-IGE26hsfc"
      },
      "source": [
        "def find_condi_prob(vocab,dictA,dictB,dictC,dictD,dictE,condi_prob):\n",
        "  count = 0\n",
        "  for t in vocab[:-1]:\n",
        "      tat=tbt=tct=tdt=tet=0\n",
        "      if t in dictA:\n",
        "        tat = dictA[t]\n",
        "      if t in dictB:\n",
        "        tbt = dictB[t]\n",
        "      if t in dictC:\n",
        "        tct = dictC[t]\n",
        "      if t in dictD:\n",
        "        tdt = dictD[t]\n",
        "      if t in dictE:\n",
        "        tet = dictE[t]\n",
        "      condi_prob[0][count] = (tat+1)/(tat+tbt+tct+tdt+tet+5)\n",
        "      condi_prob[1][count] = (tbt+1)/(tat+tbt+tct+tdt+tet+5)\n",
        "      condi_prob[2][count] = (tct+1)/(tat+tbt+tct+tdt+tet+5)\n",
        "      condi_prob[3][count] = (tdt+1)/(tat+tbt+tct+tdt+tet+5)\n",
        "      condi_prob[4][count] = (tet+1)/(tat+tbt+tct+tdt+tet+5)\n",
        "      count += 1\n",
        "  return condi_prob"
      ],
      "execution_count": null,
      "outputs": []
    },
    {
      "cell_type": "code",
      "metadata": {
        "id": "Q7jldM7Whsfc"
      },
      "source": [
        "condi_prob = find_condi_prob(vocab,dictA,dictB,dictC,dictD,dictE,condi_prob)"
      ],
      "execution_count": null,
      "outputs": []
    },
    {
      "cell_type": "code",
      "metadata": {
        "id": "x_ecLKRxhsfc"
      },
      "source": [
        "def predict(D):\n",
        "  y_pred=[]\n",
        "  for d in D:\n",
        "    W=[]\n",
        "    for w in d:\n",
        "      if w in dictVocab.keys():\n",
        "        W.append(w)\n",
        "      score = np.zeros(5)\n",
        "    for c in range(5):\n",
        "      score[c] = np.log(prior[c])\n",
        "      for w in W:\n",
        "        t = dictVocab[w]\n",
        "        score[c] += np.log(condi_prob[c][t])  \n",
        "    max = np.argmax(score)\n",
        "    y_pred.append(max+1)\n",
        "  return y_pred"
      ],
      "execution_count": null,
      "outputs": []
    },
    {
      "cell_type": "code",
      "metadata": {
        "id": "QlhmDJAOhsfd"
      },
      "source": [
        "def create_test_data(path1,path2,path3,path4,path5,path11,path21,path31,path41,path51):\n",
        "  dictTest = []\n",
        "  y_test = []\n",
        "  files = path1\n",
        "  for file in files:\n",
        "    fw = open(path11+file).read()\n",
        "    d = []\n",
        "    for i in fw.split():\n",
        "      d.append(i)\n",
        "    dictTest.append(d)\n",
        "    y_test.append(1)\n",
        "  files = path2\n",
        "  for file in files:\n",
        "    fw = open(path21+file).read()\n",
        "    d = []\n",
        "    for i in fw.split():\n",
        "      d.append(i)\n",
        "    dictTest.append(d)\n",
        "    y_test.append(2)\n",
        "  files = path3\n",
        "  for file in files:\n",
        "    fw = open(path31+file).read()\n",
        "    d = []\n",
        "    for i in fw.split():\n",
        "      d.append(i)\n",
        "    dictTest.append(d)\n",
        "    y_test.append(3)\n",
        "  files = path4\n",
        "  for file in files:\n",
        "    fw = open(path41+file).read()\n",
        "    d = []\n",
        "    for i in fw.split():\n",
        "      d.append(i)\n",
        "    dictTest.append(d)\n",
        "    y_test.append(4)\n",
        "  files = path5\n",
        "  for file in files:\n",
        "    fw = open(path51+file).read()\n",
        "    d = []\n",
        "    for i in fw.split():\n",
        "      d.append(i)\n",
        "    dictTest.append(d)\n",
        "    y_test.append(5)\n",
        "  return dictTest,y_test"
      ],
      "execution_count": null,
      "outputs": []
    },
    {
      "cell_type": "code",
      "metadata": {
        "id": "4pbw7jM9hsfd"
      },
      "source": [
        "path11 = '/content/drive/MyDrive/IR/Assignment3/cleaning2/comp.graphics/'\n",
        "path21 = '/content/drive/MyDrive/IR/Assignment3/cleaning2/sci.med/'\n",
        "path31 = '/content/drive/MyDrive/IR/Assignment3/cleaning2/sci.space/'\n",
        "path41 = '/content/drive/MyDrive/IR/Assignment3/cleaning2/talk.politics.misc/'\n",
        "path51 = '/content/drive/MyDrive/IR/Assignment3/cleaning2/rec.sport.hockey/'"
      ],
      "execution_count": null,
      "outputs": []
    },
    {
      "cell_type": "code",
      "metadata": {
        "id": "I7U5X01Zhsfd"
      },
      "source": [
        "f = open('/content/drive/MyDrive/IR/Assignment3/70_30_split/testA30.txt', 'r')\n",
        "testA30 = f.read()\n",
        "f.close()\n",
        "testA30 = ast.literal_eval(testA30)\n",
        "f = open('/content/drive/MyDrive/IR/Assignment3/70_30_split/testB30.txt', 'r')\n",
        "testB30 = f.read()\n",
        "f.close()\n",
        "testB30 = ast.literal_eval(testB30)\n",
        "f = open('/content/drive/MyDrive/IR/Assignment3/70_30_split/testC30.txt', 'r')\n",
        "testC30 = f.read()\n",
        "f.close()\n",
        "testC30 = ast.literal_eval(testC30)\n",
        "f = open('/content/drive/MyDrive/IR/Assignment3/70_30_split/testD30.txt', 'r')\n",
        "testD30 = f.read()\n",
        "f.close()\n",
        "testD30 = ast.literal_eval(testD30)\n",
        "f = open('/content/drive/MyDrive/IR/Assignment3/70_30_split/testE30.txt', 'r')\n",
        "testE30 = f.read()\n",
        "f.close()\n",
        "testE30 = ast.literal_eval(testE30)"
      ],
      "execution_count": null,
      "outputs": []
    },
    {
      "cell_type": "code",
      "metadata": {
        "id": "cC-jMMA_hsfd"
      },
      "source": [
        "X_test,y_test = create_test_data(testA30,testB30,testC30,testD30,testE30,path11,path21,path31,path41,path51)"
      ],
      "execution_count": null,
      "outputs": []
    },
    {
      "cell_type": "code",
      "metadata": {
        "id": "7pU3SWEAhsfd"
      },
      "source": [
        "y_pred = predict(X_test)"
      ],
      "execution_count": null,
      "outputs": []
    },
    {
      "cell_type": "code",
      "metadata": {
        "colab": {
          "base_uri": "https://localhost:8080/"
        },
        "id": "20jGFlxnpnhX",
        "outputId": "a94b133c-9915-42b1-862a-48366a42c2eb"
      },
      "source": [
        "r = find_confusion_matrix(y_test,y_pred)\n",
        "print('Confusion Matrix : ')\n",
        "print(r)"
      ],
      "execution_count": null,
      "outputs": [
        {
          "output_type": "stream",
          "text": [
            "Confusion Matrix : \n",
            "[[278.   3.   4.  15.   0.]\n",
            " [ 11. 268.   4.  16.   1.]\n",
            " [ 10.   5. 256.  29.   0.]\n",
            " [  0.   0.   1. 298.   1.]\n",
            " [  0.   1.   1.  13. 285.]]\n"
          ],
          "name": "stdout"
        }
      ]
    },
    {
      "cell_type": "code",
      "metadata": {
        "colab": {
          "base_uri": "https://localhost:8080/"
        },
        "id": "9XGt-KXFhsfe",
        "outputId": "e5494a27-def5-4650-fe97-89c91652c023"
      },
      "source": [
        "plot_heatMap(r)"
      ],
      "execution_count": null,
      "outputs": [
        {
          "output_type": "display_data",
          "data": {
            "image/png": "[encoded data removed]",
            "text/plain": [
              "<Figure size 576x432 with 2 Axes>"
            ]
          },
          "metadata": {
            "tags": [],
            "needs_background": "light"
          }
        }
      ]
    },
    {
      "cell_type": "code",
      "metadata": {
        "colab": {
          "base_uri": "https://localhost:8080/"
        },
        "id": "YsZj_DYFhsfe",
        "outputId": "29a83cfe-8efc-43ed-c027-686ee852c5b9"
      },
      "source": [
        "acc = find_acc(y_test,y_pred)\n",
        "print('Testing accuracy : ',acc)"
      ],
      "execution_count": null,
      "outputs": [
        {
          "output_type": "stream",
          "text": [
            "Testing accuracy :  0.9233333333333333\n"
          ],
          "name": "stdout"
        }
      ]
    },
    {
      "cell_type": "markdown",
      "metadata": {
        "id": "G1pc8pIAmPid"
      },
      "source": [
        "# 50:50 split"
      ]
    },
    {
      "cell_type": "markdown",
      "metadata": {
        "id": "haJdPdB0mPin"
      },
      "source": [
        "### split"
      ]
    },
    {
      "cell_type": "code",
      "metadata": {
        "id": "WiOq7jLTmPio"
      },
      "source": [
        "noOfDocA=[]\n",
        "noOfDocB=[]\n",
        "noOfDocC=[]\n",
        "noOfDocD=[]\n",
        "noOfDocE=[]\n",
        "files = os.listdir('/content/drive/MyDrive/IR/Assignment3/cleaning2/comp.graphics')\n",
        "for file in files:\n",
        "  noOfDocA.append(file)\n",
        "files = os.listdir('/content/drive/MyDrive/IR/Assignment3/cleaning2/sci.med')\n",
        "for file in files:\n",
        "  noOfDocB.append(file)\n",
        "files = os.listdir('/content/drive/MyDrive/IR/Assignment3/cleaning2/sci.space')\n",
        "for file in files:\n",
        "  noOfDocC.append(file)\n",
        "files = os.listdir('/content/drive/MyDrive/IR/Assignment3/cleaning2/talk.politics.misc')\n",
        "for file in files:\n",
        "  noOfDocD.append(file)\n",
        "files = os.listdir('/content/drive/MyDrive/IR/Assignment3/cleaning2/rec.sport.hockey')\n",
        "for file in files:\n",
        "  noOfDocE.append(file)"
      ],
      "execution_count": null,
      "outputs": []
    },
    {
      "cell_type": "code",
      "metadata": {
        "id": "8RQ98VVzmPip"
      },
      "source": [
        "random.shuffle(noOfDocA)\n",
        "random.shuffle(noOfDocB)\n",
        "random.shuffle(noOfDocC)\n",
        "random.shuffle(noOfDocD)\n",
        "random.shuffle(noOfDocE)"
      ],
      "execution_count": null,
      "outputs": []
    },
    {
      "cell_type": "code",
      "metadata": {
        "id": "FNh4zC_kmPiq"
      },
      "source": [
        "trainA50=noOfDocA[:500]\n",
        "testA50=noOfDocA[-500:]\n",
        "trainB50=noOfDocB[:500]\n",
        "testB50=noOfDocB[-500:]\n",
        "trainC50=noOfDocC[:500]\n",
        "testC50=noOfDocC[-500:]\n",
        "trainD50=noOfDocD[:500]\n",
        "testD50=noOfDocD[-500:]\n",
        "trainE50=noOfDocE[:500]\n",
        "testE50=noOfDocE[-500:]"
      ],
      "execution_count": null,
      "outputs": []
    },
    {
      "cell_type": "code",
      "metadata": {
        "id": "5hcQ45dqmPir"
      },
      "source": [
        "f = open('/content/drive/MyDrive/IR/Assignment3/50_50_split/trainA50.txt', 'w')\n",
        "f.write(str(trainA50))\n",
        "f.close()\n",
        "f = open('/content/drive/MyDrive/IR/Assignment3/50_50_split/testA50.txt', 'w')\n",
        "f.write(str(testA50))\n",
        "f.close()\n",
        "f = open('/content/drive/MyDrive/IR/Assignment3/50_50_split/trainB50.txt', 'w')\n",
        "f.write(str(trainB50))\n",
        "f.close()\n",
        "f = open('/content/drive/MyDrive/IR/Assignment3/50_50_split/testB50.txt', 'w')\n",
        "f.write(str(testB50))\n",
        "f.close()\n",
        "f = open('/content/drive/MyDrive/IR/Assignment3/50_50_split/trainC50.txt', 'w')\n",
        "f.write(str(trainC50))\n",
        "f.close()\n",
        "f = open('/content/drive/MyDrive/IR/Assignment3/50_50_split/testC50.txt', 'w')\n",
        "f.write(str(testC50))\n",
        "f.close()\n",
        "f = open('/content/drive/MyDrive/IR/Assignment3/50_50_split/trainD50.txt', 'w')\n",
        "f.write(str(trainD50))\n",
        "f.close()\n",
        "f = open('/content/drive/MyDrive/IR/Assignment3/50_50_split/testD50.txt', 'w')\n",
        "f.write(str(testD50))\n",
        "f.close()\n",
        "f = open('/content/drive/MyDrive/IR/Assignment3/50_50_split/trainE50.txt', 'w')\n",
        "f.write(str(trainE50))\n",
        "f.close()\n",
        "f = open('/content/drive/MyDrive/IR/Assignment3/50_50_split/testE50.txt', 'w')\n",
        "f.write(str(testE50))\n",
        "f.close()"
      ],
      "execution_count": null,
      "outputs": []
    },
    {
      "cell_type": "markdown",
      "metadata": {
        "id": "FUSgtBkkmPir"
      },
      "source": [
        "### Creating Vocab with Frequency"
      ]
    },
    {
      "cell_type": "code",
      "metadata": {
        "id": "Xnym1ON-mPis"
      },
      "source": [
        "def create_dict(path,path1):\n",
        "  files = path\n",
        "  dictA = {}\n",
        "  for file in files:\n",
        "    fw = open(path1+file).read()\n",
        "    for i in fw.split():\n",
        "      if i not in dictA.keys():\n",
        "        dictA[i] = 1\n",
        "      else :\n",
        "        dictA[i] = dictA[i]+1\n",
        "  return dictA"
      ],
      "execution_count": null,
      "outputs": []
    },
    {
      "cell_type": "code",
      "metadata": {
        "id": "ZX99VGNbmPit"
      },
      "source": [
        "#path = '/content/drive/MyDrive/IR/Assignment3/80_20_split/trainA80'\n",
        "path1 = '/content/drive/MyDrive/IR/Assignment3/cleaning2/comp.graphics/'\n",
        "path = trainA50\n",
        "dictA = create_dict(path,path1)"
      ],
      "execution_count": null,
      "outputs": []
    },
    {
      "cell_type": "code",
      "metadata": {
        "id": "yyhNezxAmPit"
      },
      "source": [
        "path1 = '/content/drive/MyDrive/IR/Assignment3/cleaning2/sci.med/'\n",
        "path = trainB50\n",
        "dictB = create_dict(path,path1)"
      ],
      "execution_count": null,
      "outputs": []
    },
    {
      "cell_type": "code",
      "metadata": {
        "id": "oZvr9AA8mPiu"
      },
      "source": [
        "path1 = '/content/drive/MyDrive/IR/Assignment3/cleaning2/sci.space/'\n",
        "path = trainC50\n",
        "dictC = create_dict(path,path1)"
      ],
      "execution_count": null,
      "outputs": []
    },
    {
      "cell_type": "code",
      "metadata": {
        "id": "epTMVFlXmPiu"
      },
      "source": [
        "path1 = '/content/drive/MyDrive/IR/Assignment3/cleaning2/talk.politics.misc/'\n",
        "path = trainD50\n",
        "dictD = create_dict(path,path1)"
      ],
      "execution_count": null,
      "outputs": []
    },
    {
      "cell_type": "code",
      "metadata": {
        "id": "N1v2A1XXmPiv"
      },
      "source": [
        "path1 = '/content/drive/MyDrive/IR/Assignment3/cleaning2/rec.sport.hockey/'\n",
        "path = trainE50\n",
        "dictE = create_dict(path,path1)"
      ],
      "execution_count": null,
      "outputs": []
    },
    {
      "cell_type": "code",
      "metadata": {
        "id": "WvXNThMdmPiv"
      },
      "source": [
        "def listFromDict(dicta):\n",
        "  list1=[]\n",
        "  for i,j in dicta.items():\n",
        "      list1.append(i)\n",
        "  return list1"
      ],
      "execution_count": null,
      "outputs": []
    },
    {
      "cell_type": "code",
      "metadata": {
        "id": "Ls2YsYOAmPiw"
      },
      "source": [
        "f = open('/content/drive/MyDrive/IR/Assignment3/50_50_split/dictA.txt', 'w')\n",
        "f.write(str(dictA))\n",
        "f.close()\n",
        "f = open('/content/drive/MyDrive/IR/Assignment3/50_50_split/dictBtxt', 'w')\n",
        "f.write(str(dictB))\n",
        "f.close()\n",
        "f = open('/content/drive/MyDrive/IR/Assignment3/50_50_split/dictC.txt', 'w')\n",
        "f.write(str(dictC))\n",
        "f.close()\n",
        "f = open('/content/drive/MyDrive/IR/Assignment3/50_50_split/dictD.txt', 'w')\n",
        "f.write(str(dictD))\n",
        "f.close()\n",
        "f = open('/content/drive/MyDrive/IR/Assignment3/50_50_split/dictE.txt', 'w')\n",
        "f.write(str(dictE))\n",
        "f.close()"
      ],
      "execution_count": null,
      "outputs": []
    },
    {
      "cell_type": "code",
      "metadata": {
        "id": "zsUnnUXomPiw"
      },
      "source": [
        "f = open('/content/drive/MyDrive/IR/Assignment3/80_20_split/dictA.txt', 'r')\n",
        "dictA = f.read()\n",
        "f.close()\n",
        "dictA = ast.literal_eval(dictA)\n",
        "f = open('/content/drive/MyDrive/IR/Assignment3/80_20_split/dictB.txt', 'r')\n",
        "dictB = f.read()\n",
        "f.close()\n",
        "dictB = ast.literal_eval(dictB)\n",
        "f = open('/content/drive/MyDrive/IR/Assignment3/80_20_split/dictC.txt', 'r')\n",
        "dictC = f.read()\n",
        "f.close()\n",
        "dictC = ast.literal_eval(dictC)\n",
        "f = open('/content/drive/MyDrive/IR/Assignment3/80_20_split/dictD.txt', 'r')\n",
        "dictD = f.read()\n",
        "f.close()\n",
        "dictD = ast.literal_eval(dictD)\n",
        "f = open('/content/drive/MyDrive/IR/Assignment3/80_20_split/dictE.txt', 'r')\n",
        "dictE = f.read()\n",
        "f.close()\n",
        "dictE = ast.literal_eval(dictE)"
      ],
      "execution_count": null,
      "outputs": []
    },
    {
      "cell_type": "code",
      "metadata": {
        "id": "GB7TE9XfmPix"
      },
      "source": [
        "list1 = listFromDict(dictA)\n",
        "list2 = listFromDict(dictB)\n",
        "list3 = listFromDict(dictC)\n",
        "list4 = listFromDict(dictD)\n",
        "list5 = listFromDict(dictE)"
      ],
      "execution_count": null,
      "outputs": []
    },
    {
      "cell_type": "code",
      "metadata": {
        "id": "l5bHvdRgmPix"
      },
      "source": [
        "uniqueWords = set(list1).union(set(list2))\n",
        "uniqueWords = set(list3).union(set(uniqueWords))\n",
        "uniqueWords = set(list4).union(set(uniqueWords))\n",
        "uniqueWords = set(list5).union(set(uniqueWords))"
      ],
      "execution_count": null,
      "outputs": []
    },
    {
      "cell_type": "markdown",
      "metadata": {
        "id": "T2jDylPymPiy"
      },
      "source": [
        "### Class Frequency"
      ]
    },
    {
      "cell_type": "code",
      "metadata": {
        "id": "4gwmkDcVmPiy"
      },
      "source": [
        "classFreq = dict.fromkeys(uniqueWords, 0)\n",
        "for i in uniqueWords:\n",
        "    if i in list1:\n",
        "      classFreq[i] += 1\n",
        "    if i in list2:\n",
        "      classFreq[i] += 1\n",
        "    if i in list3:\n",
        "      classFreq[i] += 1\n",
        "    if i in list4:\n",
        "      classFreq[i] += 1\n",
        "    if i in list5:\n",
        "      classFreq[i] += 1 "
      ],
      "execution_count": null,
      "outputs": []
    },
    {
      "cell_type": "code",
      "metadata": {
        "id": "GAwd6faImPiy"
      },
      "source": [
        "f = open('/content/drive/MyDrive/IR/Assignment3/50_50_split/classFreq.txt', 'w')\n",
        "f.write(str(classFreq))\n",
        "f.close()"
      ],
      "execution_count": null,
      "outputs": []
    },
    {
      "cell_type": "markdown",
      "metadata": {
        "id": "6-l2uP7XmPiy"
      },
      "source": [
        "### ICF"
      ]
    },
    {
      "cell_type": "code",
      "metadata": {
        "id": "f7MSHwplmPiz"
      },
      "source": [
        "icfA = dict.fromkeys(list1, 0)\n",
        "for i,j in classFreq.items():\n",
        "  if i in list1:\n",
        "    icfA[i] = np.log((5/j))\n",
        "icfB = dict.fromkeys(list2, 0)\n",
        "for i,j in classFreq.items():\n",
        "  if i in list2:\n",
        "   icfB[i] = np.log((5/j))\n",
        "icfC = dict.fromkeys(list3, 0)\n",
        "for i,j in classFreq.items():\n",
        "  if i in list3:\n",
        "   icfC[i] = np.log((5/j))\n",
        "icfD = dict.fromkeys(list4, 0)\n",
        "for i,j in classFreq.items():\n",
        "  if i in list4:\n",
        "   icfD[i] = np.log((5/j))\n",
        "icfE= dict.fromkeys(list5, 0)\n",
        "for i,j in classFreq.items():\n",
        "  if i in list5:\n",
        "   icfE[i] = np.log((5/j))"
      ],
      "execution_count": null,
      "outputs": []
    },
    {
      "cell_type": "code",
      "metadata": {
        "id": "TBJVKSKSmPiz"
      },
      "source": [
        "f = open('/content/drive/MyDrive/IR/Assignment3/50_50_split/icfE.txt', 'w')\n",
        "f.write(str(icfE))\n",
        "f.close()\n",
        "f = open('/content/drive/MyDrive/IR/Assignment3/50_50_split/icfA.txt', 'w')\n",
        "f.write(str(icfA))\n",
        "f.close()\n",
        "f = open('/content/drive/MyDrive/IR/Assignment3/50_50_split/icfB.txt', 'w')\n",
        "f.write(str(icfB))\n",
        "f.close()\n",
        "f = open('/content/drive/MyDrive/IR/Assignment3/50_50_split/icfC.txt', 'w')\n",
        "f.write(str(icfC))\n",
        "f.close()\n",
        "f = open('/content/drive/MyDrive/IR/Assignment3/50_50_split/icfD.txt', 'w')\n",
        "f.write(str(icfD))\n",
        "f.close()"
      ],
      "execution_count": null,
      "outputs": []
    },
    {
      "cell_type": "code",
      "metadata": {
        "id": "whnkwx8DmPiz"
      },
      "source": [
        "f = open('/content/drive/MyDrive/IR/Assignment3/50_50_split/icfA.txt', 'r')\n",
        "icfA = f.read()\n",
        "f.close()\n",
        "icfA = ast.literal_eval(icfA)\n",
        "f = open('/content/drive/MyDrive/IR/Assignment3/50_50_split/icfB.txt', 'r')\n",
        "icfB = f.read()\n",
        "f.close()\n",
        "icfB = ast.literal_eval(icfB)\n",
        "f = open('/content/drive/MyDrive/IR/Assignment3/50_50_split/icfC.txt', 'r')\n",
        "icfC = f.read()\n",
        "f.close()\n",
        "icfC = ast.literal_eval(icfC)\n",
        "f = open('/content/drive/MyDrive/IR/Assignment3/50_50_split/icfD.txt', 'r')\n",
        "icfD = f.read()\n",
        "f.close()\n",
        "icfD = ast.literal_eval(icfD)\n",
        "f = open('/content/drive/MyDrive/IR/Assignment3/50_50_split/icfE.txt', 'r')\n",
        "icfE = f.read()\n",
        "f.close()\n",
        "icfE = ast.literal_eval(icfE)"
      ],
      "execution_count": null,
      "outputs": []
    },
    {
      "cell_type": "markdown",
      "metadata": {
        "id": "KWRIQYaRmPiz"
      },
      "source": [
        "### TF-ICF"
      ]
    },
    {
      "cell_type": "code",
      "metadata": {
        "id": "oGxsbP08mPiz"
      },
      "source": [
        "def compute_tficf(dicttf, idfs):\n",
        "  tfidf = {}\n",
        "  for word, i in dicttf.items():\n",
        "      tfidf[word] = i * idfs[word]\n",
        "  return tfidf"
      ],
      "execution_count": null,
      "outputs": []
    },
    {
      "cell_type": "code",
      "metadata": {
        "id": "2rLFShqTmPi0"
      },
      "source": [
        "tficfA = compute_tficf(dictA,icfA)\n",
        "tficfB = compute_tficf(dictB,icfB)\n",
        "tficfC = compute_tficf(dictC,icfC)\n",
        "tficfD = compute_tficf(dictD,icfD)\n",
        "tficfE = compute_tficf(dictE,icfE)"
      ],
      "execution_count": null,
      "outputs": []
    },
    {
      "cell_type": "code",
      "metadata": {
        "colab": {
          "base_uri": "https://localhost:8080/"
        },
        "id": "z2X45CoNmPi0",
        "outputId": "d2c3359a-1909-4f59-df6f-a4c45a68173b"
      },
      "source": [
        "len(tficfA) , len(tficfB) , len(tficfC) , len(tficfD) , len(tficfE)"
      ],
      "execution_count": null,
      "outputs": [
        {
          "output_type": "execute_result",
          "data": {
            "text/plain": [
              "(12047, 14025, 12868, 14234, 11423)"
            ]
          },
          "metadata": {
            "tags": []
          },
          "execution_count": 24
        }
      ]
    },
    {
      "cell_type": "code",
      "metadata": {
        "id": "HNU6jymjmPi1"
      },
      "source": [
        "tficfA_s = sorted(tficfA.items(), reverse=True  , key = lambda kv:(kv[1], kv[0])) \n",
        "tficfB_s = sorted(tficfB.items(), reverse=True  , key = lambda kv:(kv[1], kv[0]))\n",
        "tficfC_s = sorted(tficfC.items(), reverse=True  , key = lambda kv:(kv[1], kv[0]))\n",
        "tficfD_s = sorted(tficfD.items(), reverse=True  , key = lambda kv:(kv[1], kv[0]))\n",
        "tficfE_s = sorted(tficfE.items(), reverse=True  , key = lambda kv:(kv[1], kv[0]))"
      ],
      "execution_count": null,
      "outputs": []
    },
    {
      "cell_type": "code",
      "metadata": {
        "id": "CVDFTRPqmPi1"
      },
      "source": [
        "f = open('/content/drive/MyDrive/IR/Assignment3/50_50_split/tficfA.txt', 'w')\n",
        "f.write(str(tficfA_s))\n",
        "f.close()\n",
        "f = open('/content/drive/MyDrive/IR/Assignment3/50_50_split/tficfB.txt', 'w')\n",
        "f.write(str(tficfB_s))\n",
        "f.close()\n",
        "f = open('/content/drive/MyDrive/IR/Assignment3/50_50_split/tficfC.txt', 'w')\n",
        "f.write(str(tficfC_s))\n",
        "f.close()\n",
        "f = open('/content/drive/MyDrive/IR/Assignment3/50_50_split/tficfD.txt', 'w')\n",
        "f.write(str(tficfD_s))\n",
        "f.close()\n",
        "f = open('/content/drive/MyDrive/IR/Assignment3/50_50_split/tficfE.txt', 'w')\n",
        "f.write(str(tficfE_s))\n",
        "f.close()"
      ],
      "execution_count": null,
      "outputs": []
    },
    {
      "cell_type": "code",
      "metadata": {
        "id": "KG81HcTXmPi1"
      },
      "source": [
        "f = open('/content/drive/MyDrive/IR/Assignment3/50_50_split/tficfA.txt', 'r')\n",
        "tficfA = f.read()\n",
        "f.close()\n",
        "tficfA = ast.literal_eval(tficfA)\n",
        "f = open('/content/drive/MyDrive/IR/Assignment3/50_50_split/tficfB.txt', 'r')\n",
        "tficfB = f.read()\n",
        "f.close()\n",
        "tficfB = ast.literal_eval(tficfB)\n",
        "f = open('/content/drive/MyDrive/IR/Assignment3/50_50_split/tficfC.txt', 'r')\n",
        "tficfC = f.read()\n",
        "f.close()\n",
        "tficfC = ast.literal_eval(tficfC)\n",
        "f = open('/content/drive/MyDrive/IR/Assignment3/50_50_split/tficfD.txt', 'r')\n",
        "tficfD = f.read()\n",
        "f.close()\n",
        "tficfD = ast.literal_eval(tficfD)\n",
        "f = open('/content/drive/MyDrive/IR/Assignment3/50_50_split/tficfE.txt', 'r')\n",
        "tficfE = f.read()\n",
        "f.close()\n",
        "tficfE = ast.literal_eval(tficfE)"
      ],
      "execution_count": null,
      "outputs": []
    },
    {
      "cell_type": "markdown",
      "metadata": {
        "id": "emAV0YRjmPi1"
      },
      "source": [
        "### Select top K features"
      ]
    },
    {
      "cell_type": "code",
      "metadata": {
        "id": "Bla-W3G5mPi1"
      },
      "source": [
        "vocab = []\n",
        "count=11000 #K \n",
        "for i in tficfA_s:\n",
        "   if count>0:\n",
        "     count-=1\n",
        "     if i[0] not in vocab:\n",
        "       vocab.append(i[0])\n",
        "count=11000 #K \n",
        "for i in tficfB_s:\n",
        "   if count>0:\n",
        "     count-=1\n",
        "     if i[0] not in vocab:\n",
        "       vocab.append(i[0])\n",
        "count=11000 #K \n",
        "for i in tficfC_s:\n",
        "   if count>0:\n",
        "     count-=1\n",
        "     if i[0] not in vocab:\n",
        "       vocab.append(i[0])\n",
        "count=11000 #K \n",
        "for i in tficfD_s:\n",
        "   if count>0:\n",
        "     count-=1\n",
        "     if i[0] not in vocab:\n",
        "       vocab.append(i[0])\n",
        "count=11000 #K \n",
        "for i in tficfE_s:\n",
        "   if count>0:\n",
        "     count-=1\n",
        "     if i[0] not in vocab:\n",
        "       vocab.append(i[0])"
      ],
      "execution_count": null,
      "outputs": []
    },
    {
      "cell_type": "code",
      "metadata": {
        "id": "z5db3mQpmPi2",
        "colab": {
          "base_uri": "https://localhost:8080/"
        },
        "outputId": "ab91b9c2-57fc-4017-c792-8d0019647602"
      },
      "source": [
        "len(vocab)"
      ],
      "execution_count": null,
      "outputs": [
        {
          "output_type": "execute_result",
          "data": {
            "text/plain": [
              "39895"
            ]
          },
          "metadata": {
            "tags": []
          },
          "execution_count": 27
        }
      ]
    },
    {
      "cell_type": "code",
      "metadata": {
        "id": "PTFKUdE6mPi2"
      },
      "source": [
        "f = open('/content/drive/MyDrive/IR/Assignment3/50_50_split/vocab.txt', 'w')\n",
        "f.write(str(vocab))\n",
        "f.close()"
      ],
      "execution_count": null,
      "outputs": []
    },
    {
      "cell_type": "code",
      "metadata": {
        "id": "zfA0UKfDmPi2"
      },
      "source": [
        "f = open('/content/drive/MyDrive/IR/Assignment3/50_50_split/vocab.txt', 'r')\n",
        "vocab = f.read()\n",
        "f.close()"
      ],
      "execution_count": null,
      "outputs": []
    },
    {
      "cell_type": "markdown",
      "metadata": {
        "id": "iqSmzwaLmPi2"
      },
      "source": [
        "### Training data"
      ]
    },
    {
      "cell_type": "code",
      "metadata": {
        "id": "7BFO70BnmPi2"
      },
      "source": [
        "prior=[0.2,0.2,0.2,0.2,0.2]\n",
        "condi_prob = np.zeros((5,len(vocab)))\n",
        "condi_prob=condi_prob.astype('float')\n",
        "dictVocab = dict.fromkeys(vocab,0)\n",
        "count=0\n",
        "for i,j in dictVocab.items():\n",
        "  dictVocab[i]=count\n",
        "  count+=1"
      ],
      "execution_count": null,
      "outputs": []
    },
    {
      "cell_type": "code",
      "metadata": {
        "id": "EhNKA3PFmPi3"
      },
      "source": [
        "def find_condi_prob(vocab,dictA,dictB,dictC,dictD,dictE,condi_prob):\n",
        "  count = 0\n",
        "  for t in vocab[:-1]:\n",
        "      tat=tbt=tct=tdt=tet=0\n",
        "      if t in dictA:\n",
        "        tat = dictA[t]\n",
        "      if t in dictB:\n",
        "        tbt = dictB[t]\n",
        "      if t in dictC:\n",
        "        tct = dictC[t]\n",
        "      if t in dictD:\n",
        "        tdt = dictD[t]\n",
        "      if t in dictE:\n",
        "        tet = dictE[t]\n",
        "      condi_prob[0][count] = (tat+1)/(tat+tbt+tct+tdt+tet+5)\n",
        "      condi_prob[1][count] = (tbt+1)/(tat+tbt+tct+tdt+tet+5)\n",
        "      condi_prob[2][count] = (tct+1)/(tat+tbt+tct+tdt+tet+5)\n",
        "      condi_prob[3][count] = (tdt+1)/(tat+tbt+tct+tdt+tet+5)\n",
        "      condi_prob[4][count] = (tet+1)/(tat+tbt+tct+tdt+tet+5)\n",
        "      count += 1\n",
        "  return condi_prob"
      ],
      "execution_count": null,
      "outputs": []
    },
    {
      "cell_type": "code",
      "metadata": {
        "id": "GTLxdj6PmPi3"
      },
      "source": [
        "condi_prob = find_condi_prob(vocab,dictA,dictB,dictC,dictD,dictE,condi_prob)"
      ],
      "execution_count": null,
      "outputs": []
    },
    {
      "cell_type": "code",
      "metadata": {
        "id": "AacvwO5bmPi3"
      },
      "source": [
        "def predict(D):\n",
        "  y_pred=[]\n",
        "  for d in D:\n",
        "    W=[]\n",
        "    for w in d:\n",
        "      if w in dictVocab.keys():\n",
        "        W.append(w)\n",
        "      score = np.zeros(5)\n",
        "    for c in range(5):\n",
        "      score[c] = np.log(prior[c])\n",
        "      for w in W:\n",
        "        t = dictVocab[w]\n",
        "        score[c] += np.log(condi_prob[c][t])  \n",
        "    max = np.argmax(score)\n",
        "    y_pred.append(max+1)\n",
        "  return y_pred"
      ],
      "execution_count": null,
      "outputs": []
    },
    {
      "cell_type": "code",
      "metadata": {
        "id": "WyvXmULGmPi3"
      },
      "source": [
        "def create_test_data(path1,path2,path3,path4,path5,path11,path21,path31,path41,path51):\n",
        "  dictTest = []\n",
        "  y_test = []\n",
        "  files = path1\n",
        "  for file in files:\n",
        "    fw = open(path11+file).read()\n",
        "    d = []\n",
        "    for i in fw.split():\n",
        "      d.append(i)\n",
        "    dictTest.append(d)\n",
        "    y_test.append(1)\n",
        "  files = path2\n",
        "  for file in files:\n",
        "    fw = open(path21+file).read()\n",
        "    d = []\n",
        "    for i in fw.split():\n",
        "      d.append(i)\n",
        "    dictTest.append(d)\n",
        "    y_test.append(2)\n",
        "  files = path3\n",
        "  for file in files:\n",
        "    fw = open(path31+file).read()\n",
        "    d = []\n",
        "    for i in fw.split():\n",
        "      d.append(i)\n",
        "    dictTest.append(d)\n",
        "    y_test.append(3)\n",
        "  files = path4\n",
        "  for file in files:\n",
        "    fw = open(path41+file).read()\n",
        "    d = []\n",
        "    for i in fw.split():\n",
        "      d.append(i)\n",
        "    dictTest.append(d)\n",
        "    y_test.append(4)\n",
        "  files = path5\n",
        "  for file in files:\n",
        "    fw = open(path51+file).read()\n",
        "    d = []\n",
        "    for i in fw.split():\n",
        "      d.append(i)\n",
        "    dictTest.append(d)\n",
        "    y_test.append(5)\n",
        "  return dictTest,y_test"
      ],
      "execution_count": null,
      "outputs": []
    },
    {
      "cell_type": "code",
      "metadata": {
        "id": "YDnBndECmPi3"
      },
      "source": [
        "path11 = '/content/drive/MyDrive/IR/Assignment3/cleaning2/comp.graphics/'\n",
        "path21 = '/content/drive/MyDrive/IR/Assignment3/cleaning2/sci.med/'\n",
        "path31 = '/content/drive/MyDrive/IR/Assignment3/cleaning2/sci.space/'\n",
        "path41 = '/content/drive/MyDrive/IR/Assignment3/cleaning2/talk.politics.misc/'\n",
        "path51 = '/content/drive/MyDrive/IR/Assignment3/cleaning2/rec.sport.hockey/'"
      ],
      "execution_count": null,
      "outputs": []
    },
    {
      "cell_type": "code",
      "metadata": {
        "id": "EmcjZVeOmPi4"
      },
      "source": [
        "f = open('/content/drive/MyDrive/IR/Assignment3/50_50_split/testA50.txt', 'r')\n",
        "testA50 = f.read()\n",
        "f.close()\n",
        "testA50 = ast.literal_eval(testA50)\n",
        "f = open('/content/drive/MyDrive/IR/Assignment3/50_50_split/testB50.txt', 'r')\n",
        "testB50 = f.read()\n",
        "f.close()\n",
        "testB50 = ast.literal_eval(testB50)\n",
        "f = open('/content/drive/MyDrive/IR/Assignment3/50_50_split/testC50.txt', 'r')\n",
        "testC50 = f.read()\n",
        "f.close()\n",
        "testC50 = ast.literal_eval(testC50)\n",
        "f = open('/content/drive/MyDrive/IR/Assignment3/50_50_split/testD50.txt', 'r')\n",
        "testD50 = f.read()\n",
        "f.close()\n",
        "testD50 = ast.literal_eval(testD50)\n",
        "f = open('/content/drive/MyDrive/IR/Assignment3/50_50_split/testE50.txt', 'r')\n",
        "testE50 = f.read()\n",
        "f.close()\n",
        "testE50 = ast.literal_eval(testE50)"
      ],
      "execution_count": null,
      "outputs": []
    },
    {
      "cell_type": "code",
      "metadata": {
        "id": "Wo08ATSTmPi4"
      },
      "source": [
        "X_test,y_test = create_test_data(testA50,testB50,testC50,testD50,testE50,path11,path21,path31,path41,path51)"
      ],
      "execution_count": null,
      "outputs": []
    },
    {
      "cell_type": "code",
      "metadata": {
        "colab": {
          "base_uri": "https://localhost:8080/"
        },
        "id": "EoDJyjFXmPi4",
        "outputId": "c9d32b60-1e34-4064-ce11-dcef90807b90"
      },
      "source": [
        "y_pred = predict(X_test)"
      ],
      "execution_count": null,
      "outputs": [
        {
          "output_type": "stream",
          "text": [
            "/usr/local/lib/python3.7/dist-packages/ipykernel_launcher.py:13: RuntimeWarning: divide by zero encountered in log\n",
            "  del sys.path[0]\n"
          ],
          "name": "stderr"
        }
      ]
    },
    {
      "cell_type": "code",
      "metadata": {
        "colab": {
          "base_uri": "https://localhost:8080/"
        },
        "id": "ZaBliRvnmPi6",
        "outputId": "aac87e45-db54-4fdb-d6b8-b37b16e54613"
      },
      "source": [
        "r = find_confusion_matrix(y_test,y_pred)\n",
        "print('Confusion Matrix : ')\n",
        "print(r)"
      ],
      "execution_count": null,
      "outputs": [
        {
          "output_type": "stream",
          "text": [
            "Confusion Matrix : \n",
            "[[476.   1.   2.  20.   1.]\n",
            " [ 26. 389.  11.  71.   3.]\n",
            " [ 28.   2. 433.  37.   0.]\n",
            " [  7.   0.   2. 490.   1.]\n",
            " [  8.   0.   1.  11. 480.]]\n"
          ],
          "name": "stdout"
        }
      ]
    },
    {
      "cell_type": "code",
      "metadata": {
        "colab": {
          "base_uri": "https://localhost:8080/",
          "height": 487
        },
        "id": "ny1RM6S6mPi6",
        "outputId": "2121fd7e-b8ca-427e-9505-29a6dfd5492b"
      },
      "source": [
        "plot_heatMap(r)"
      ],
      "execution_count": null,
      "outputs": [
        {
          "output_type": "display_data",
          "data": {
            "image/png": "[encoded data removed]",
            "text/plain": [
              "<Figure size 576x432 with 2 Axes>"
            ]
          },
          "metadata": {
            "tags": [],
            "needs_background": "light"
          }
        }
      ]
    },
    {
      "cell_type": "code",
      "metadata": {
        "colab": {
          "base_uri": "https://localhost:8080/"
        },
        "id": "qh3mROOMmPi6",
        "outputId": "baaa45d6-acea-415e-ac9f-a845066cfb8f"
      },
      "source": [
        "acc = find_acc(y_test,y_pred)\n",
        "print('Testing accuracy : ',acc)"
      ],
      "execution_count": null,
      "outputs": [
        {
          "output_type": "stream",
          "text": [
            "Testing accuracy :  0.9072\n"
          ],
          "name": "stdout"
        }
      ]
    },
    {
      "cell_type": "markdown",
      "metadata": {
        "id": "6Gf5QONv2qmw"
      },
      "source": [
        "# Plot\n"
      ]
    },
    {
      "cell_type": "code",
      "metadata": {
        "colab": {
          "base_uri": "https://localhost:8080/",
          "height": 489
        },
        "id": "maWxqcGlylNR",
        "outputId": "5f9059dd-3555-496a-81f6-bb2fe477bb0a"
      },
      "source": [
        "import matplotlib.pyplot as plt\n",
        "import seaborn as sns\n",
        "\n",
        "plt.figure(figsize = (9,6))\n",
        "testingAccuracy = [90.72, 92.33, 94.4]\n",
        "TrainTestSplits = ['50:50', '70:30', '80:20']\n",
        "plt.xlabel('Train Test Split Ratio', size = 15, color = 'purple')\n",
        "plt.ylabel('Testing Accuracy (%)', size = 15, color = 'purple')\n",
        "plt.title('Testing Accuracy Vs Train Test Split Ratio', size = 20, pad  = 10, color = 'purple')\n",
        "sns.barplot(TrainTestSplits, testingAccuracy, palette = 'PuRd')"
      ],
      "execution_count": null,
      "outputs": [
        {
          "output_type": "stream",
          "text": [
            "/usr/local/lib/python3.7/dist-packages/seaborn/_decorators.py:43: FutureWarning: Pass the following variables as keyword args: x, y. From version 0.12, the only valid positional argument will be `data`, and passing other arguments without an explicit keyword will result in an error or misinterpretation.\n",
            "  FutureWarning\n"
          ],
          "name": "stderr"
        },
        {
          "output_type": "execute_result",
          "data": {
            "text/plain": [
              "<matplotlib.axes._subplots.AxesSubplot at 0x7fd43456fed0>"
            ]
          },
          "metadata": {
            "tags": []
          },
          "execution_count": 28
        },
        {
          "output_type": "display_data",
          "data": {
            "image/png": "[encoded data removed]",
            "text/plain": [
              "<Figure size 648x432 with 1 Axes>"
            ]
          },
          "metadata": {
            "tags": [],
            "needs_background": "light"
          }
        }
      ]
    },
    {
      "cell_type": "code",
      "metadata": {
        "id": "gKaORiTL3Wbt"
      },
      "source": [
        ""
      ],
      "execution_count": null,
      "outputs": []
    }
  ]
}